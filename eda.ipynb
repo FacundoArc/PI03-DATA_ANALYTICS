{
 "metadata": {
  "language_info": {
   "codemirror_mode": {
    "name": "ipython",
    "version": 3
   },
   "file_extension": ".py",
   "mimetype": "text/x-python",
   "name": "python",
   "nbconvert_exporter": "python",
   "pygments_lexer": "ipython3",
   "version": "3.10.0-final"
  },
  "orig_nbformat": 2,
  "kernelspec": {
   "name": "python3",
   "display_name": "Python 3.10.0 64-bit",
   "metadata": {
    "interpreter": {
     "hash": "98590ff4fe04c8543246b2a01debd3de3c5ca9b666f43f1fa87d5110c692004c"
    }
   }
  }
 },
 "nbformat": 4,
 "nbformat_minor": 2,
 "cells": [
  {
   "source": [
    "Analisis Exploratorio de Datos de los datasets Coursera, Edx y Udemy\n"
   ],
   "cell_type": "markdown",
   "metadata": {}
  },
  {
   "source": [
    "Importamos librerias necesarias para el Analisis "
   ],
   "cell_type": "markdown",
   "metadata": {}
  },
  {
   "cell_type": "code",
   "execution_count": 1,
   "metadata": {},
   "outputs": [],
   "source": [
    "import pandas as pd #libreria para trabajar con dataframes\n",
    "from langdetect import detect #libreria para detectar idiomas"
   ]
  },
  {
   "source": [
    "Según el objetivo propuesto en el trabajo se busca segmentar la información a nivel de ventas según precio, idioma, nivel del curso y el rating. Por lo que se procede a remover aquellas columnas de los datasets que no formen parte de la consigna."
   ],
   "cell_type": "markdown",
   "metadata": {}
  },
  {
   "cell_type": "code",
   "execution_count": 238,
   "metadata": {},
   "outputs": [],
   "source": [
    "# Cargamos dataset Coursera_courses.csv\n",
    "data_coursera_courses = pd.read_csv('./Coursera_courses.csv')"
   ]
  },
  {
   "source": [
    "                                            COURSERA COURSES EDA"
   ],
   "cell_type": "markdown",
   "metadata": {}
  },
  {
   "cell_type": "code",
   "execution_count": 239,
   "metadata": {},
   "outputs": [
    {
     "output_type": "execute_result",
     "data": {
      "text/plain": [
       "                                                name  \\\n",
       "0                                   Machine Learning   \n",
       "1                                  Indigenous Canada   \n",
       "2                          The Science of Well-Being   \n",
       "3                     Technical Support Fundamentals   \n",
       "4  Become a CBRS Certified Professional Installer...   \n",
       "\n",
       "                 institution  \\\n",
       "0        Stanford University   \n",
       "1      University of Alberta   \n",
       "2            Yale University   \n",
       "3                     Google   \n",
       "4  Google - Spectrum Sharing   \n",
       "\n",
       "                                          course_url  \\\n",
       "0    https://www.coursera.org/learn/machine-learning   \n",
       "1   https://www.coursera.org/learn/indigenous-canada   \n",
       "2  https://www.coursera.org/learn/the-science-of-...   \n",
       "3  https://www.coursera.org/learn/technical-suppo...   \n",
       "4  https://www.coursera.org/learn/google-cbrs-cpi...   \n",
       "\n",
       "                        course_id  \n",
       "0                machine-learning  \n",
       "1               indigenous-canada  \n",
       "2       the-science-of-well-being  \n",
       "3  technical-support-fundamentals  \n",
       "4        google-cbrs-cpi-training  "
      ],
      "text/html": "<div>\n<style scoped>\n    .dataframe tbody tr th:only-of-type {\n        vertical-align: middle;\n    }\n\n    .dataframe tbody tr th {\n        vertical-align: top;\n    }\n\n    .dataframe thead th {\n        text-align: right;\n    }\n</style>\n<table border=\"1\" class=\"dataframe\">\n  <thead>\n    <tr style=\"text-align: right;\">\n      <th></th>\n      <th>name</th>\n      <th>institution</th>\n      <th>course_url</th>\n      <th>course_id</th>\n    </tr>\n  </thead>\n  <tbody>\n    <tr>\n      <th>0</th>\n      <td>Machine Learning</td>\n      <td>Stanford University</td>\n      <td>https://www.coursera.org/learn/machine-learning</td>\n      <td>machine-learning</td>\n    </tr>\n    <tr>\n      <th>1</th>\n      <td>Indigenous Canada</td>\n      <td>University of Alberta</td>\n      <td>https://www.coursera.org/learn/indigenous-canada</td>\n      <td>indigenous-canada</td>\n    </tr>\n    <tr>\n      <th>2</th>\n      <td>The Science of Well-Being</td>\n      <td>Yale University</td>\n      <td>https://www.coursera.org/learn/the-science-of-...</td>\n      <td>the-science-of-well-being</td>\n    </tr>\n    <tr>\n      <th>3</th>\n      <td>Technical Support Fundamentals</td>\n      <td>Google</td>\n      <td>https://www.coursera.org/learn/technical-suppo...</td>\n      <td>technical-support-fundamentals</td>\n    </tr>\n    <tr>\n      <th>4</th>\n      <td>Become a CBRS Certified Professional Installer...</td>\n      <td>Google - Spectrum Sharing</td>\n      <td>https://www.coursera.org/learn/google-cbrs-cpi...</td>\n      <td>google-cbrs-cpi-training</td>\n    </tr>\n  </tbody>\n</table>\n</div>"
     },
     "metadata": {},
     "execution_count": 239
    }
   ],
   "source": [
    "data_coursera_courses.head()"
   ]
  },
  {
   "source": [
    "Análisis exploratorio para conocer la estructura de los datos y ver si hay errores."
   ],
   "cell_type": "markdown",
   "metadata": {}
  },
  {
   "source": [
    "data_coursera_courses.info()\n",
    "data_coursera_courses.value_counts()\n",
    "data_coursera_courses.isna().sum()"
   ],
   "cell_type": "code",
   "metadata": {},
   "execution_count": 27,
   "outputs": [
    {
     "output_type": "stream",
     "name": "stdout",
     "text": [
      "<class 'pandas.core.frame.DataFrame'>\nRangeIndex: 623 entries, 0 to 622\nData columns (total 4 columns):\n #   Column       Non-Null Count  Dtype \n---  ------       --------------  ----- \n 0   name         623 non-null    object\n 1   institution  623 non-null    object\n 2   course_url   623 non-null    object\n 3   course_id    623 non-null    object\ndtypes: object(4)\nmemory usage: 19.6+ KB\n"
     ]
    },
    {
     "output_type": "execute_result",
     "data": {
      "text/plain": [
       "name           0\n",
       "institution    0\n",
       "course_url     0\n",
       "course_id      0\n",
       "dtype: int64"
      ]
     },
     "metadata": {},
     "execution_count": 27
    }
   ]
  },
  {
   "source": [
    "Chequeamos por valores duplicados."
   ],
   "cell_type": "markdown",
   "metadata": {}
  },
  {
   "cell_type": "code",
   "execution_count": 28,
   "metadata": {},
   "outputs": [
    {
     "output_type": "execute_result",
     "data": {
      "text/plain": [
       "False    623\n",
       "dtype: int64"
      ]
     },
     "metadata": {},
     "execution_count": 28
    }
   ],
   "source": [
    "data_coursera_courses.duplicated().value_counts()"
   ]
  },
  {
   "source": [
    "Me quedo con las columnas que tengan relevancia para el análisis."
   ],
   "cell_type": "markdown",
   "metadata": {}
  },
  {
   "cell_type": "code",
   "execution_count": 70,
   "metadata": {},
   "outputs": [],
   "source": [
    "data_coursera_courses_corregido = data_coursera_courses[['name','course_id']]"
   ]
  },
  {
   "cell_type": "code",
   "execution_count": 72,
   "metadata": {},
   "outputs": [
    {
     "output_type": "execute_result",
     "data": {
      "text/plain": [
       "                                                  name  \\\n",
       "0                                     Machine Learning   \n",
       "1                                    Indigenous Canada   \n",
       "2                            The Science of Well-Being   \n",
       "3                       Technical Support Fundamentals   \n",
       "4    Become a CBRS Certified Professional Installer...   \n",
       "..                                                 ...   \n",
       "618              Accounting Data Analytics with Python   \n",
       "619             Introduction to Molecular Spectroscopy   \n",
       "620                                Managing as a Coach   \n",
       "621             The fundamentals of hotel distribution   \n",
       "622                     A Crash Course in Data Science   \n",
       "\n",
       "                            course_id  \n",
       "0                    machine-learning  \n",
       "1                   indigenous-canada  \n",
       "2           the-science-of-well-being  \n",
       "3      technical-support-fundamentals  \n",
       "4            google-cbrs-cpi-training  \n",
       "..                                ...  \n",
       "618  accounting-data-analytics-python  \n",
       "619                      spectroscopy  \n",
       "620               managing-as-a-coach  \n",
       "621                hotel-distribution  \n",
       "622               data-science-course  \n",
       "\n",
       "[623 rows x 2 columns]"
      ],
      "text/html": "<div>\n<style scoped>\n    .dataframe tbody tr th:only-of-type {\n        vertical-align: middle;\n    }\n\n    .dataframe tbody tr th {\n        vertical-align: top;\n    }\n\n    .dataframe thead th {\n        text-align: right;\n    }\n</style>\n<table border=\"1\" class=\"dataframe\">\n  <thead>\n    <tr style=\"text-align: right;\">\n      <th></th>\n      <th>name</th>\n      <th>course_id</th>\n    </tr>\n  </thead>\n  <tbody>\n    <tr>\n      <th>0</th>\n      <td>Machine Learning</td>\n      <td>machine-learning</td>\n    </tr>\n    <tr>\n      <th>1</th>\n      <td>Indigenous Canada</td>\n      <td>indigenous-canada</td>\n    </tr>\n    <tr>\n      <th>2</th>\n      <td>The Science of Well-Being</td>\n      <td>the-science-of-well-being</td>\n    </tr>\n    <tr>\n      <th>3</th>\n      <td>Technical Support Fundamentals</td>\n      <td>technical-support-fundamentals</td>\n    </tr>\n    <tr>\n      <th>4</th>\n      <td>Become a CBRS Certified Professional Installer...</td>\n      <td>google-cbrs-cpi-training</td>\n    </tr>\n    <tr>\n      <th>...</th>\n      <td>...</td>\n      <td>...</td>\n    </tr>\n    <tr>\n      <th>618</th>\n      <td>Accounting Data Analytics with Python</td>\n      <td>accounting-data-analytics-python</td>\n    </tr>\n    <tr>\n      <th>619</th>\n      <td>Introduction to Molecular Spectroscopy</td>\n      <td>spectroscopy</td>\n    </tr>\n    <tr>\n      <th>620</th>\n      <td>Managing as a Coach</td>\n      <td>managing-as-a-coach</td>\n    </tr>\n    <tr>\n      <th>621</th>\n      <td>The fundamentals of hotel distribution</td>\n      <td>hotel-distribution</td>\n    </tr>\n    <tr>\n      <th>622</th>\n      <td>A Crash Course in Data Science</td>\n      <td>data-science-course</td>\n    </tr>\n  </tbody>\n</table>\n<p>623 rows × 2 columns</p>\n</div>"
     },
     "metadata": {},
     "execution_count": 72
    }
   ],
   "source": [
    "data_coursera_courses_corregido"
   ]
  },
  {
   "source": [
    "NO SE ENCONTRARON DATOS NULOS NI DUPLICADOS EN EL DATASET COURSERA_COURSES.CSV"
   ],
   "cell_type": "markdown",
   "metadata": {}
  },
  {
   "source": [
    "-------------------------------------------------------------------------------------------"
   ],
   "cell_type": "markdown",
   "metadata": {}
  },
  {
   "source": [
    "                                            COURSERA REVIEWS EDA"
   ],
   "cell_type": "markdown",
   "metadata": {}
  },
  {
   "cell_type": "code",
   "execution_count": 80,
   "metadata": {},
   "outputs": [],
   "source": [
    "# Cargamos dataset Coursera_reviews.csv\n",
    "data_coursera_reviews = pd.read_csv('./Coursera_reviews.csv')"
   ]
  },
  {
   "cell_type": "code",
   "execution_count": 82,
   "metadata": {},
   "outputs": [
    {
     "output_type": "execute_result",
     "data": {
      "text/plain": [
       "                                             reviews       reviewers  \\\n",
       "0  Pretty dry, but I was able to pass with just t...     By Robert S   \n",
       "1  would be a better experience if the video and ...  By Gabriel E R   \n",
       "2  Information was perfect! The program itself wa...      By Jacob D   \n",
       "3  A few grammatical mistakes on test made me do ...       By Dale B   \n",
       "4  Excellent course and the training provided was...       By Sean G   \n",
       "\n",
       "   date_reviews  rating                 course_id  \n",
       "0  Feb 12, 2020       4  google-cbrs-cpi-training  \n",
       "1  Sep 28, 2020       4  google-cbrs-cpi-training  \n",
       "2  Apr 08, 2020       4  google-cbrs-cpi-training  \n",
       "3  Feb 24, 2020       4  google-cbrs-cpi-training  \n",
       "4  Jun 18, 2020       4  google-cbrs-cpi-training  "
      ],
      "text/html": "<div>\n<style scoped>\n    .dataframe tbody tr th:only-of-type {\n        vertical-align: middle;\n    }\n\n    .dataframe tbody tr th {\n        vertical-align: top;\n    }\n\n    .dataframe thead th {\n        text-align: right;\n    }\n</style>\n<table border=\"1\" class=\"dataframe\">\n  <thead>\n    <tr style=\"text-align: right;\">\n      <th></th>\n      <th>reviews</th>\n      <th>reviewers</th>\n      <th>date_reviews</th>\n      <th>rating</th>\n      <th>course_id</th>\n    </tr>\n  </thead>\n  <tbody>\n    <tr>\n      <th>0</th>\n      <td>Pretty dry, but I was able to pass with just t...</td>\n      <td>By Robert S</td>\n      <td>Feb 12, 2020</td>\n      <td>4</td>\n      <td>google-cbrs-cpi-training</td>\n    </tr>\n    <tr>\n      <th>1</th>\n      <td>would be a better experience if the video and ...</td>\n      <td>By Gabriel E R</td>\n      <td>Sep 28, 2020</td>\n      <td>4</td>\n      <td>google-cbrs-cpi-training</td>\n    </tr>\n    <tr>\n      <th>2</th>\n      <td>Information was perfect! The program itself wa...</td>\n      <td>By Jacob D</td>\n      <td>Apr 08, 2020</td>\n      <td>4</td>\n      <td>google-cbrs-cpi-training</td>\n    </tr>\n    <tr>\n      <th>3</th>\n      <td>A few grammatical mistakes on test made me do ...</td>\n      <td>By Dale B</td>\n      <td>Feb 24, 2020</td>\n      <td>4</td>\n      <td>google-cbrs-cpi-training</td>\n    </tr>\n    <tr>\n      <th>4</th>\n      <td>Excellent course and the training provided was...</td>\n      <td>By Sean G</td>\n      <td>Jun 18, 2020</td>\n      <td>4</td>\n      <td>google-cbrs-cpi-training</td>\n    </tr>\n  </tbody>\n</table>\n</div>"
     },
     "metadata": {},
     "execution_count": 82
    }
   ],
   "source": [
    "data_coursera_reviews.head()"
   ]
  },
  {
   "source": [
    "Análisis exploratorio para conocer la estructura de los datos y ver si hay errores\n"
   ],
   "cell_type": "markdown",
   "metadata": {}
  },
  {
   "cell_type": "code",
   "execution_count": 83,
   "metadata": {},
   "outputs": [
    {
     "output_type": "stream",
     "name": "stdout",
     "text": [
      "<class 'pandas.core.frame.DataFrame'>\nRangeIndex: 1454711 entries, 0 to 1454710\nData columns (total 5 columns):\n #   Column        Non-Null Count    Dtype \n---  ------        --------------    ----- \n 0   reviews       1454571 non-null  object\n 1   reviewers     1454711 non-null  object\n 2   date_reviews  1454711 non-null  object\n 3   rating        1454711 non-null  int64 \n 4   course_id     1454711 non-null  object\ndtypes: int64(1), object(4)\nmemory usage: 55.5+ MB\n"
     ]
    },
    {
     "output_type": "execute_result",
     "data": {
      "text/plain": [
       "reviews         140\n",
       "reviewers         0\n",
       "date_reviews      0\n",
       "rating            0\n",
       "course_id         0\n",
       "dtype: int64"
      ]
     },
     "metadata": {},
     "execution_count": 83
    }
   ],
   "source": [
    "data_coursera_reviews.info()\n",
    "data_coursera_reviews.value_counts()\n",
    "data_coursera_reviews.isna().sum()"
   ]
  },
  {
   "source": [
    "Chequeo por duplicados"
   ],
   "cell_type": "markdown",
   "metadata": {}
  },
  {
   "cell_type": "code",
   "execution_count": 86,
   "metadata": {},
   "outputs": [
    {
     "output_type": "execute_result",
     "data": {
      "text/plain": [
       "True     934764\n",
       "False    519947\n",
       "dtype: int64"
      ]
     },
     "metadata": {},
     "execution_count": 86
    }
   ],
   "source": [
    "data_coursera_reviews.duplicated().value_counts()"
   ]
  },
  {
   "cell_type": "code",
   "execution_count": 87,
   "metadata": {},
   "outputs": [],
   "source": [
    "data_coursera_reviews.drop_duplicates(inplace=True) #Remuevo duplicados"
   ]
  },
  {
   "cell_type": "code",
   "execution_count": 88,
   "metadata": {},
   "outputs": [],
   "source": [
    "data_coursera_reviews.dropna(inplace=True) #Remuevo nulos"
   ]
  },
  {
   "source": [
    "Me quedo con las columnas que tengan relevancia para el análisis y coloco todo el un nuevo dataframe donde realizare otras transformaciones."
   ],
   "cell_type": "markdown",
   "metadata": {}
  },
  {
   "source": [
    "data_coursera_reviews_corregido = data_coursera_reviews[['rating','course_id']]"
   ],
   "cell_type": "code",
   "metadata": {},
   "execution_count": 179,
   "outputs": []
  },
  {
   "source": [
    "Reviso cantidad de registros en base a su course_id"
   ],
   "cell_type": "markdown",
   "metadata": {}
  },
  {
   "source": [
    "len(data_coursera_reviews_corregido['course_id'].unique()) "
   ],
   "cell_type": "code",
   "metadata": {},
   "execution_count": 180,
   "outputs": [
    {
     "output_type": "execute_result",
     "data": {
      "text/plain": [
       "604"
      ]
     },
     "metadata": {},
     "execution_count": 180
    }
   ]
  },
  {
   "source": [
    "Diferentes tipos de ratings"
   ],
   "cell_type": "markdown",
   "metadata": {}
  },
  {
   "cell_type": "code",
   "execution_count": 181,
   "metadata": {},
   "outputs": [
    {
     "output_type": "execute_result",
     "data": {
      "text/plain": [
       "array([4, 5, 1, 2, 3])"
      ]
     },
     "metadata": {},
     "execution_count": 181
    }
   ],
   "source": [
    "data_coursera_reviews_corregido['rating'].unique()"
   ]
  },
  {
   "source": [
    "Creo columna que permite ver Número de reviews. Para ellos hago una agrupación en base al 'course_id' y realizo una transformación para contar todos los registros por cada curso por separado."
   ],
   "cell_type": "markdown",
   "metadata": {}
  },
  {
   "cell_type": "code",
   "execution_count": 183,
   "metadata": {},
   "outputs": [
    {
     "output_type": "stream",
     "name": "stderr",
     "text": [
      "/var/folders/4n/z_dkq44j2t9bgj_4nq5l3m4h0000gn/T/ipykernel_57233/3839990971.py:1: SettingWithCopyWarning: \nA value is trying to be set on a copy of a slice from a DataFrame.\nTry using .loc[row_indexer,col_indexer] = value instead\n\nSee the caveats in the documentation: https://pandas.pydata.org/pandas-docs/stable/user_guide/indexing.html#returning-a-view-versus-a-copy\n  data_coursera_reviews_corregido['n_reviews'] = data_coursera_reviews_corregido.groupby('course_id')['course_id'].transform('count')\n"
     ]
    }
   ],
   "source": [
    "data_coursera_reviews_corregido['n_reviews'] = data_coursera_reviews_corregido.groupby('course_id')['course_id'].transform('count')"
   ]
  },
  {
   "source": [
    "Visualizo el nuevo dataframe con la columna 'n_reviews'"
   ],
   "cell_type": "markdown",
   "metadata": {}
  },
  {
   "cell_type": "code",
   "execution_count": 208,
   "metadata": {},
   "outputs": [
    {
     "output_type": "execute_result",
     "data": {
      "text/plain": [
       "         rating                 course_id  n_reviews\n",
       "0             4  google-cbrs-cpi-training         33\n",
       "1             4  google-cbrs-cpi-training         33\n",
       "2             4  google-cbrs-cpi-training         33\n",
       "3             4  google-cbrs-cpi-training         33\n",
       "4             4  google-cbrs-cpi-training         33\n",
       "...         ...                       ...        ...\n",
       "1454636       5       computer-networking       4811\n",
       "1454639       5       computer-networking       4811\n",
       "1454642       5       computer-networking       4811\n",
       "1454643       5       computer-networking       4811\n",
       "1454644       5       computer-networking       4811\n",
       "\n",
       "[519891 rows x 3 columns]"
      ],
      "text/html": "<div>\n<style scoped>\n    .dataframe tbody tr th:only-of-type {\n        vertical-align: middle;\n    }\n\n    .dataframe tbody tr th {\n        vertical-align: top;\n    }\n\n    .dataframe thead th {\n        text-align: right;\n    }\n</style>\n<table border=\"1\" class=\"dataframe\">\n  <thead>\n    <tr style=\"text-align: right;\">\n      <th></th>\n      <th>rating</th>\n      <th>course_id</th>\n      <th>n_reviews</th>\n    </tr>\n  </thead>\n  <tbody>\n    <tr>\n      <th>0</th>\n      <td>4</td>\n      <td>google-cbrs-cpi-training</td>\n      <td>33</td>\n    </tr>\n    <tr>\n      <th>1</th>\n      <td>4</td>\n      <td>google-cbrs-cpi-training</td>\n      <td>33</td>\n    </tr>\n    <tr>\n      <th>2</th>\n      <td>4</td>\n      <td>google-cbrs-cpi-training</td>\n      <td>33</td>\n    </tr>\n    <tr>\n      <th>3</th>\n      <td>4</td>\n      <td>google-cbrs-cpi-training</td>\n      <td>33</td>\n    </tr>\n    <tr>\n      <th>4</th>\n      <td>4</td>\n      <td>google-cbrs-cpi-training</td>\n      <td>33</td>\n    </tr>\n    <tr>\n      <th>...</th>\n      <td>...</td>\n      <td>...</td>\n      <td>...</td>\n    </tr>\n    <tr>\n      <th>1454636</th>\n      <td>5</td>\n      <td>computer-networking</td>\n      <td>4811</td>\n    </tr>\n    <tr>\n      <th>1454639</th>\n      <td>5</td>\n      <td>computer-networking</td>\n      <td>4811</td>\n    </tr>\n    <tr>\n      <th>1454642</th>\n      <td>5</td>\n      <td>computer-networking</td>\n      <td>4811</td>\n    </tr>\n    <tr>\n      <th>1454643</th>\n      <td>5</td>\n      <td>computer-networking</td>\n      <td>4811</td>\n    </tr>\n    <tr>\n      <th>1454644</th>\n      <td>5</td>\n      <td>computer-networking</td>\n      <td>4811</td>\n    </tr>\n  </tbody>\n</table>\n<p>519891 rows × 3 columns</p>\n</div>"
     },
     "metadata": {},
     "execution_count": 208
    }
   ],
   "source": [
    "data_coursera_reviews_corregido"
   ]
  },
  {
   "source": [
    "Voy sumar la cantidad de votos de rating por curso y luego dividirla por su 'n_reviews' Numero de reviews, para sacar un promedio estimativo del rating del curso."
   ],
   "cell_type": "markdown",
   "metadata": {}
  },
  {
   "cell_type": "code",
   "execution_count": 215,
   "metadata": {},
   "outputs": [
    {
     "output_type": "stream",
     "name": "stderr",
     "text": [
      "/var/folders/4n/z_dkq44j2t9bgj_4nq5l3m4h0000gn/T/ipykernel_57233/732755657.py:1: SettingWithCopyWarning: \nA value is trying to be set on a copy of a slice from a DataFrame.\nTry using .loc[row_indexer,col_indexer] = value instead\n\nSee the caveats in the documentation: https://pandas.pydata.org/pandas-docs/stable/user_guide/indexing.html#returning-a-view-versus-a-copy\n  data_coursera_reviews_corregido['promedio_rating'] = data_coursera_reviews_corregido.groupby('course_id')['rating'].transform('mean')\n"
     ]
    }
   ],
   "source": [
    "data_coursera_reviews_corregido['promedio_rating'] = data_coursera_reviews_corregido.groupby('course_id')['rating'].transform('mean')"
   ]
  },
  {
   "cell_type": "code",
   "execution_count": 218,
   "metadata": {},
   "outputs": [
    {
     "output_type": "execute_result",
     "data": {
      "text/plain": [
       "         rating                 course_id  n_reviews  promedio_rating\n",
       "0             4  google-cbrs-cpi-training         33         4.818182\n",
       "1             4  google-cbrs-cpi-training         33         4.818182\n",
       "2             4  google-cbrs-cpi-training         33         4.818182\n",
       "3             4  google-cbrs-cpi-training         33         4.818182\n",
       "4             4  google-cbrs-cpi-training         33         4.818182\n",
       "...         ...                       ...        ...              ...\n",
       "1454636       5       computer-networking       4811         4.628767\n",
       "1454639       5       computer-networking       4811         4.628767\n",
       "1454642       5       computer-networking       4811         4.628767\n",
       "1454643       5       computer-networking       4811         4.628767\n",
       "1454644       5       computer-networking       4811         4.628767\n",
       "\n",
       "[519891 rows x 4 columns]"
      ],
      "text/html": "<div>\n<style scoped>\n    .dataframe tbody tr th:only-of-type {\n        vertical-align: middle;\n    }\n\n    .dataframe tbody tr th {\n        vertical-align: top;\n    }\n\n    .dataframe thead th {\n        text-align: right;\n    }\n</style>\n<table border=\"1\" class=\"dataframe\">\n  <thead>\n    <tr style=\"text-align: right;\">\n      <th></th>\n      <th>rating</th>\n      <th>course_id</th>\n      <th>n_reviews</th>\n      <th>promedio_rating</th>\n    </tr>\n  </thead>\n  <tbody>\n    <tr>\n      <th>0</th>\n      <td>4</td>\n      <td>google-cbrs-cpi-training</td>\n      <td>33</td>\n      <td>4.818182</td>\n    </tr>\n    <tr>\n      <th>1</th>\n      <td>4</td>\n      <td>google-cbrs-cpi-training</td>\n      <td>33</td>\n      <td>4.818182</td>\n    </tr>\n    <tr>\n      <th>2</th>\n      <td>4</td>\n      <td>google-cbrs-cpi-training</td>\n      <td>33</td>\n      <td>4.818182</td>\n    </tr>\n    <tr>\n      <th>3</th>\n      <td>4</td>\n      <td>google-cbrs-cpi-training</td>\n      <td>33</td>\n      <td>4.818182</td>\n    </tr>\n    <tr>\n      <th>4</th>\n      <td>4</td>\n      <td>google-cbrs-cpi-training</td>\n      <td>33</td>\n      <td>4.818182</td>\n    </tr>\n    <tr>\n      <th>...</th>\n      <td>...</td>\n      <td>...</td>\n      <td>...</td>\n      <td>...</td>\n    </tr>\n    <tr>\n      <th>1454636</th>\n      <td>5</td>\n      <td>computer-networking</td>\n      <td>4811</td>\n      <td>4.628767</td>\n    </tr>\n    <tr>\n      <th>1454639</th>\n      <td>5</td>\n      <td>computer-networking</td>\n      <td>4811</td>\n      <td>4.628767</td>\n    </tr>\n    <tr>\n      <th>1454642</th>\n      <td>5</td>\n      <td>computer-networking</td>\n      <td>4811</td>\n      <td>4.628767</td>\n    </tr>\n    <tr>\n      <th>1454643</th>\n      <td>5</td>\n      <td>computer-networking</td>\n      <td>4811</td>\n      <td>4.628767</td>\n    </tr>\n    <tr>\n      <th>1454644</th>\n      <td>5</td>\n      <td>computer-networking</td>\n      <td>4811</td>\n      <td>4.628767</td>\n    </tr>\n  </tbody>\n</table>\n<p>519891 rows × 4 columns</p>\n</div>"
     },
     "metadata": {},
     "execution_count": 218
    }
   ],
   "source": [
    "data_coursera_reviews_corregido"
   ]
  },
  {
   "source": [
    "Continuo a eliminar la columna 'rating' debido a que consegui el promedio por curso"
   ],
   "cell_type": "markdown",
   "metadata": {}
  },
  {
   "cell_type": "code",
   "execution_count": 219,
   "metadata": {},
   "outputs": [],
   "source": [
    "data_coursera_reviews_corregido = data_coursera_reviews_corregido.drop(columns=['rating'])"
   ]
  },
  {
   "source": [
    "Continuo a eliminar los duplicados para dejarme únicamente con los registros de los cursos y su promedio de rating. Todo con el fin de disminuir el dataset en una cantidad de registros con los que pueda trabajar mas adelante."
   ],
   "cell_type": "markdown",
   "metadata": {}
  },
  {
   "cell_type": "code",
   "execution_count": 222,
   "metadata": {},
   "outputs": [],
   "source": [
    "data_coursera_reviews_corregido.drop_duplicates(inplace=True)"
   ]
  },
  {
   "source": [
    "Al encontrar 604 registros de course_id en el dataset 'Coursera_reviews.csv' y sabiendo que hay 623 registros de course_id en el dataset 'Coursera_courses.csv'; llegamos a la conclusión de que 19 'course_id' no contienen un 'rating'.\n",
    "\n",
    "Debido a que contamos con dos datasets para la misma plataforma de Coursera. Continuo a unirlos para poder usar la misma información para los mismos cursos."
   ],
   "cell_type": "markdown",
   "metadata": {}
  },
  {
   "cell_type": "code",
   "execution_count": 224,
   "metadata": {},
   "outputs": [],
   "source": [
    "data_coursera = pd.merge(data_coursera_courses_corregido,data_coursera_reviews_corregido, how='outer')"
   ]
  },
  {
   "source": [
    "Reviso el nuevo dataset que contiene el Titulo del curso, su ID, el Número de reviews y el promedio de rating que obtuvo. Varios registros no tuvieron reviews por lo que sus valores Nan fueron reemplazados por 0."
   ],
   "cell_type": "markdown",
   "metadata": {}
  },
  {
   "cell_type": "code",
   "execution_count": 5,
   "metadata": {},
   "outputs": [
    {
     "output_type": "execute_result",
     "data": {
      "text/plain": [
       "     Unnamed: 0                                               name  \\\n",
       "0             0                                   Machine Learning   \n",
       "1             1                                  Indigenous Canada   \n",
       "2             2                          The Science of Well-Being   \n",
       "3             3                     Technical Support Fundamentals   \n",
       "4             4  Become a CBRS Certified Professional Installer...   \n",
       "..          ...                                                ...   \n",
       "618         618              Accounting Data Analytics with Python   \n",
       "619         619             Introduction to Molecular Spectroscopy   \n",
       "620         620                                Managing as a Coach   \n",
       "621         621             The fundamentals of hotel distribution   \n",
       "622         622                     A Crash Course in Data Science   \n",
       "\n",
       "                            course_id  n_reviews  promedio_rating  \n",
       "0                    machine-learning    12677.0         4.739923  \n",
       "1                   indigenous-canada     1460.0         4.816438  \n",
       "2           the-science-of-well-being     8199.0         4.929504  \n",
       "3      technical-support-fundamentals    12054.0         4.767546  \n",
       "4            google-cbrs-cpi-training       33.0         4.818182  \n",
       "..                                ...        ...              ...  \n",
       "618  accounting-data-analytics-python        8.0         3.500000  \n",
       "619                      spectroscopy      408.0         4.607843  \n",
       "620               managing-as-a-coach      282.0         4.734043  \n",
       "621                hotel-distribution        0.0         0.000000  \n",
       "622               data-science-course        0.0         0.000000  \n",
       "\n",
       "[623 rows x 5 columns]"
      ],
      "text/html": "<div>\n<style scoped>\n    .dataframe tbody tr th:only-of-type {\n        vertical-align: middle;\n    }\n\n    .dataframe tbody tr th {\n        vertical-align: top;\n    }\n\n    .dataframe thead th {\n        text-align: right;\n    }\n</style>\n<table border=\"1\" class=\"dataframe\">\n  <thead>\n    <tr style=\"text-align: right;\">\n      <th></th>\n      <th>Unnamed: 0</th>\n      <th>name</th>\n      <th>course_id</th>\n      <th>n_reviews</th>\n      <th>promedio_rating</th>\n    </tr>\n  </thead>\n  <tbody>\n    <tr>\n      <th>0</th>\n      <td>0</td>\n      <td>Machine Learning</td>\n      <td>machine-learning</td>\n      <td>12677.0</td>\n      <td>4.739923</td>\n    </tr>\n    <tr>\n      <th>1</th>\n      <td>1</td>\n      <td>Indigenous Canada</td>\n      <td>indigenous-canada</td>\n      <td>1460.0</td>\n      <td>4.816438</td>\n    </tr>\n    <tr>\n      <th>2</th>\n      <td>2</td>\n      <td>The Science of Well-Being</td>\n      <td>the-science-of-well-being</td>\n      <td>8199.0</td>\n      <td>4.929504</td>\n    </tr>\n    <tr>\n      <th>3</th>\n      <td>3</td>\n      <td>Technical Support Fundamentals</td>\n      <td>technical-support-fundamentals</td>\n      <td>12054.0</td>\n      <td>4.767546</td>\n    </tr>\n    <tr>\n      <th>4</th>\n      <td>4</td>\n      <td>Become a CBRS Certified Professional Installer...</td>\n      <td>google-cbrs-cpi-training</td>\n      <td>33.0</td>\n      <td>4.818182</td>\n    </tr>\n    <tr>\n      <th>...</th>\n      <td>...</td>\n      <td>...</td>\n      <td>...</td>\n      <td>...</td>\n      <td>...</td>\n    </tr>\n    <tr>\n      <th>618</th>\n      <td>618</td>\n      <td>Accounting Data Analytics with Python</td>\n      <td>accounting-data-analytics-python</td>\n      <td>8.0</td>\n      <td>3.500000</td>\n    </tr>\n    <tr>\n      <th>619</th>\n      <td>619</td>\n      <td>Introduction to Molecular Spectroscopy</td>\n      <td>spectroscopy</td>\n      <td>408.0</td>\n      <td>4.607843</td>\n    </tr>\n    <tr>\n      <th>620</th>\n      <td>620</td>\n      <td>Managing as a Coach</td>\n      <td>managing-as-a-coach</td>\n      <td>282.0</td>\n      <td>4.734043</td>\n    </tr>\n    <tr>\n      <th>621</th>\n      <td>621</td>\n      <td>The fundamentals of hotel distribution</td>\n      <td>hotel-distribution</td>\n      <td>0.0</td>\n      <td>0.000000</td>\n    </tr>\n    <tr>\n      <th>622</th>\n      <td>622</td>\n      <td>A Crash Course in Data Science</td>\n      <td>data-science-course</td>\n      <td>0.0</td>\n      <td>0.000000</td>\n    </tr>\n  </tbody>\n</table>\n<p>623 rows × 5 columns</p>\n</div>"
     },
     "metadata": {},
     "execution_count": 5
    }
   ],
   "source": [
    "data_coursera.fillna(0)"
   ]
  },
  {
   "source": [
    "Luego de revisar el sitio web de la plataforma Coursera('www.coursera.org'); es necesaria una subscripción mensual o anual para poder tomar las clases de los cursos que ofrecen certificados. También se encuentran diferentes tipos de cursos gratis los cuales pueden ser accedidos sin una necesidad de una membresía.\n"
   ],
   "cell_type": "markdown",
   "metadata": {}
  },
  {
   "cell_type": "code",
   "execution_count": 3,
   "metadata": {},
   "outputs": [],
   "source": [
    "data_coursera = pd.read_csv('data_coursera_revisado.csv')"
   ]
  },
  {
   "source": [
    "Con la ayuda de la librería de Langdetect puedo detectar el idioma en el cual estan escritos los titulos de los cursos de Coursera."
   ],
   "cell_type": "markdown",
   "metadata": {}
  },
  {
   "source": [
    "https://pypi.org/project/langdetect/\n",
    "para mas información en la libreria.\n"
   ],
   "cell_type": "markdown",
   "metadata": {}
  },
  {
   "source": [
    "Creo una función que ayuda a detectar el lenguaje de cada curso respecto al titulo."
   ],
   "cell_type": "markdown",
   "metadata": {}
  },
  {
   "cell_type": "code",
   "execution_count": 7,
   "metadata": {},
   "outputs": [],
   "source": [
    "def detectlang(text):\n",
    "    try:\n",
    "        return detect(text)\n",
    "    except:\n",
    "        return 'Unknown'\n"
   ]
  },
  {
   "cell_type": "code",
   "execution_count": 8,
   "metadata": {},
   "outputs": [],
   "source": [
    "data_coursera['idioma'] = data_coursera['name'].apply(detectlang)"
   ]
  },
  {
   "cell_type": "code",
   "execution_count": 11,
   "metadata": {},
   "outputs": [
    {
     "output_type": "execute_result",
     "data": {
      "text/plain": [
       "     Unnamed: 0                                               name  \\\n",
       "0             0                                   Machine Learning   \n",
       "1             1                                  Indigenous Canada   \n",
       "2             2                          The Science of Well-Being   \n",
       "3             3                     Technical Support Fundamentals   \n",
       "4             4  Become a CBRS Certified Professional Installer...   \n",
       "..          ...                                                ...   \n",
       "618         618              Accounting Data Analytics with Python   \n",
       "619         619             Introduction to Molecular Spectroscopy   \n",
       "620         620                                Managing as a Coach   \n",
       "621         621             The fundamentals of hotel distribution   \n",
       "622         622                     A Crash Course in Data Science   \n",
       "\n",
       "                            course_id  n_reviews  promedio_rating idioma  \n",
       "0                    machine-learning    12677.0         4.739923     en  \n",
       "1                   indigenous-canada     1460.0         4.816438     id  \n",
       "2           the-science-of-well-being     8199.0         4.929504     en  \n",
       "3      technical-support-fundamentals    12054.0         4.767546     de  \n",
       "4            google-cbrs-cpi-training       33.0         4.818182     en  \n",
       "..                                ...        ...              ...    ...  \n",
       "618  accounting-data-analytics-python        8.0         3.500000     en  \n",
       "619                      spectroscopy      408.0         4.607843     en  \n",
       "620               managing-as-a-coach      282.0         4.734043     tl  \n",
       "621                hotel-distribution        NaN              NaN     en  \n",
       "622               data-science-course        NaN              NaN     en  \n",
       "\n",
       "[623 rows x 6 columns]"
      ],
      "text/html": "<div>\n<style scoped>\n    .dataframe tbody tr th:only-of-type {\n        vertical-align: middle;\n    }\n\n    .dataframe tbody tr th {\n        vertical-align: top;\n    }\n\n    .dataframe thead th {\n        text-align: right;\n    }\n</style>\n<table border=\"1\" class=\"dataframe\">\n  <thead>\n    <tr style=\"text-align: right;\">\n      <th></th>\n      <th>Unnamed: 0</th>\n      <th>name</th>\n      <th>course_id</th>\n      <th>n_reviews</th>\n      <th>promedio_rating</th>\n      <th>idioma</th>\n    </tr>\n  </thead>\n  <tbody>\n    <tr>\n      <th>0</th>\n      <td>0</td>\n      <td>Machine Learning</td>\n      <td>machine-learning</td>\n      <td>12677.0</td>\n      <td>4.739923</td>\n      <td>en</td>\n    </tr>\n    <tr>\n      <th>1</th>\n      <td>1</td>\n      <td>Indigenous Canada</td>\n      <td>indigenous-canada</td>\n      <td>1460.0</td>\n      <td>4.816438</td>\n      <td>id</td>\n    </tr>\n    <tr>\n      <th>2</th>\n      <td>2</td>\n      <td>The Science of Well-Being</td>\n      <td>the-science-of-well-being</td>\n      <td>8199.0</td>\n      <td>4.929504</td>\n      <td>en</td>\n    </tr>\n    <tr>\n      <th>3</th>\n      <td>3</td>\n      <td>Technical Support Fundamentals</td>\n      <td>technical-support-fundamentals</td>\n      <td>12054.0</td>\n      <td>4.767546</td>\n      <td>de</td>\n    </tr>\n    <tr>\n      <th>4</th>\n      <td>4</td>\n      <td>Become a CBRS Certified Professional Installer...</td>\n      <td>google-cbrs-cpi-training</td>\n      <td>33.0</td>\n      <td>4.818182</td>\n      <td>en</td>\n    </tr>\n    <tr>\n      <th>...</th>\n      <td>...</td>\n      <td>...</td>\n      <td>...</td>\n      <td>...</td>\n      <td>...</td>\n      <td>...</td>\n    </tr>\n    <tr>\n      <th>618</th>\n      <td>618</td>\n      <td>Accounting Data Analytics with Python</td>\n      <td>accounting-data-analytics-python</td>\n      <td>8.0</td>\n      <td>3.500000</td>\n      <td>en</td>\n    </tr>\n    <tr>\n      <th>619</th>\n      <td>619</td>\n      <td>Introduction to Molecular Spectroscopy</td>\n      <td>spectroscopy</td>\n      <td>408.0</td>\n      <td>4.607843</td>\n      <td>en</td>\n    </tr>\n    <tr>\n      <th>620</th>\n      <td>620</td>\n      <td>Managing as a Coach</td>\n      <td>managing-as-a-coach</td>\n      <td>282.0</td>\n      <td>4.734043</td>\n      <td>tl</td>\n    </tr>\n    <tr>\n      <th>621</th>\n      <td>621</td>\n      <td>The fundamentals of hotel distribution</td>\n      <td>hotel-distribution</td>\n      <td>NaN</td>\n      <td>NaN</td>\n      <td>en</td>\n    </tr>\n    <tr>\n      <th>622</th>\n      <td>622</td>\n      <td>A Crash Course in Data Science</td>\n      <td>data-science-course</td>\n      <td>NaN</td>\n      <td>NaN</td>\n      <td>en</td>\n    </tr>\n  </tbody>\n</table>\n<p>623 rows × 6 columns</p>\n</div>"
     },
     "metadata": {},
     "execution_count": 11
    }
   ],
   "source": [
    "data_coursera"
   ]
  },
  {
   "source": [
    "Continuo a realizar una tranformación de la columna idioma para que sea mas facil de interpretar.\n",
    "Mas información en: https://en.wikipedia.org/wiki/List_of_ISO_639-1_codes para conocer los resultados de la libreria Langdetect\n",
    "\n"
   ],
   "cell_type": "markdown",
   "metadata": {}
  },
  {
   "cell_type": "code",
   "execution_count": 14,
   "metadata": {},
   "outputs": [
    {
     "output_type": "execute_result",
     "data": {
      "text/plain": [
       "en    521\n",
       "es     26\n",
       "fr     13\n",
       "de     12\n",
       "ca     11\n",
       "it     11\n",
       "no      7\n",
       "ru      5\n",
       "tl      4\n",
       "nl      3\n",
       "id      2\n",
       "da      2\n",
       "pt      2\n",
       "ro      2\n",
       "lt      1\n",
       "af      1\n",
       "Name: idioma, dtype: int64"
      ]
     },
     "metadata": {},
     "execution_count": 14
    }
   ],
   "source": [
    "data_coursera['idioma'].value_counts()"
   ]
  },
  {
   "source": [
    "Realizo una tranformacion de los promedio conseguidos para tener un numero aproximado del mismo."
   ],
   "cell_type": "markdown",
   "metadata": {}
  },
  {
   "cell_type": "code",
   "execution_count": 17,
   "metadata": {},
   "outputs": [
    {
     "output_type": "execute_result",
     "data": {
      "text/plain": [
       "106    5.000\n",
       "500    5.000\n",
       "603    5.000\n",
       "50     5.000\n",
       "361    4.968\n",
       "       ...  \n",
       "529      NaN\n",
       "557      NaN\n",
       "569      NaN\n",
       "621      NaN\n",
       "622      NaN\n",
       "Name: promedio_rating, Length: 623, dtype: float64"
      ]
     },
     "metadata": {},
     "execution_count": 17
    }
   ],
   "source": [
    "data_coursera['promedio_rating'].sort_values(ascending=False)"
   ]
  },
  {
   "source": [
    "Antes de exportar el dataset decidí ordenarlos en base al numero de reviews con respecto a su promedio de rating.\n",
    "Continuo a exportar el nuevo dataset."
   ],
   "cell_type": "markdown",
   "metadata": {}
  },
  {
   "cell_type": "code",
   "execution_count": 12,
   "metadata": {},
   "outputs": [],
   "source": [
    "data_coursera.to_csv('data_coursera_revisado.csv')"
   ]
  },
  {
   "cell_type": "code",
   "execution_count": 6,
   "metadata": {},
   "outputs": [],
   "source": [
    "data_coursera.drop(columns='Unnamed: 0', inplace=True)"
   ]
  },
  {
   "cell_type": "code",
   "execution_count": 14,
   "metadata": {},
   "outputs": [],
   "source": [
    "data_coursera.sort_values(['n_reviews','promedio_rating'],ascending=False,inplace=True)"
   ]
  },
  {
   "cell_type": "code",
   "execution_count": 230,
   "metadata": {},
   "outputs": [
    {
     "output_type": "execute_result",
     "data": {
      "text/plain": [
       "                                                  name  \\\n",
       "7    Programming for Everybody (Getting Started wit...   \n",
       "0                                     Machine Learning   \n",
       "12                   Neural Networks and Deep Learning   \n",
       "3                       Technical Support Fundamentals   \n",
       "24   Learning How to Learn: Powerful mental tools t...   \n",
       "..                                                 ...   \n",
       "529            Digital Marketing Analytics in Practice   \n",
       "557                    Dairy Production and Management   \n",
       "569  Security & Safety Challenges in a Globalized W...   \n",
       "621             The fundamentals of hotel distribution   \n",
       "622                     A Crash Course in Data Science   \n",
       "\n",
       "                            course_id  n_reviews  promedio_rating  idioma  \n",
       "7                              python    15226.0         4.583673  Ingles  \n",
       "0                    machine-learning    12677.0         4.739923  Ingles  \n",
       "12      neural-networks-deep-learning    12291.0         4.771540  Ingles  \n",
       "3      technical-support-fundamentals    12054.0         4.767546  Ingles  \n",
       "24              learning-how-to-learn    11871.0         4.801196  Ingles  \n",
       "..                                ...        ...              ...     ...  \n",
       "529                 digital-analytics        0.0         0.000000  Ingles  \n",
       "557                  dairy-production        0.0         0.000000  Ingles  \n",
       "569  security-safety-globalized-world        0.0         0.000000  Ingles  \n",
       "621                hotel-distribution        0.0         0.000000  Ingles  \n",
       "622               data-science-course        0.0         0.000000  Ingles  \n",
       "\n",
       "[623 rows x 5 columns]"
      ],
      "text/html": "<div>\n<style scoped>\n    .dataframe tbody tr th:only-of-type {\n        vertical-align: middle;\n    }\n\n    .dataframe tbody tr th {\n        vertical-align: top;\n    }\n\n    .dataframe thead th {\n        text-align: right;\n    }\n</style>\n<table border=\"1\" class=\"dataframe\">\n  <thead>\n    <tr style=\"text-align: right;\">\n      <th></th>\n      <th>name</th>\n      <th>course_id</th>\n      <th>n_reviews</th>\n      <th>promedio_rating</th>\n      <th>idioma</th>\n    </tr>\n  </thead>\n  <tbody>\n    <tr>\n      <th>7</th>\n      <td>Programming for Everybody (Getting Started wit...</td>\n      <td>python</td>\n      <td>15226.0</td>\n      <td>4.583673</td>\n      <td>Ingles</td>\n    </tr>\n    <tr>\n      <th>0</th>\n      <td>Machine Learning</td>\n      <td>machine-learning</td>\n      <td>12677.0</td>\n      <td>4.739923</td>\n      <td>Ingles</td>\n    </tr>\n    <tr>\n      <th>12</th>\n      <td>Neural Networks and Deep Learning</td>\n      <td>neural-networks-deep-learning</td>\n      <td>12291.0</td>\n      <td>4.771540</td>\n      <td>Ingles</td>\n    </tr>\n    <tr>\n      <th>3</th>\n      <td>Technical Support Fundamentals</td>\n      <td>technical-support-fundamentals</td>\n      <td>12054.0</td>\n      <td>4.767546</td>\n      <td>Ingles</td>\n    </tr>\n    <tr>\n      <th>24</th>\n      <td>Learning How to Learn: Powerful mental tools t...</td>\n      <td>learning-how-to-learn</td>\n      <td>11871.0</td>\n      <td>4.801196</td>\n      <td>Ingles</td>\n    </tr>\n    <tr>\n      <th>...</th>\n      <td>...</td>\n      <td>...</td>\n      <td>...</td>\n      <td>...</td>\n      <td>...</td>\n    </tr>\n    <tr>\n      <th>529</th>\n      <td>Digital Marketing Analytics in Practice</td>\n      <td>digital-analytics</td>\n      <td>0.0</td>\n      <td>0.000000</td>\n      <td>Ingles</td>\n    </tr>\n    <tr>\n      <th>557</th>\n      <td>Dairy Production and Management</td>\n      <td>dairy-production</td>\n      <td>0.0</td>\n      <td>0.000000</td>\n      <td>Ingles</td>\n    </tr>\n    <tr>\n      <th>569</th>\n      <td>Security &amp; Safety Challenges in a Globalized W...</td>\n      <td>security-safety-globalized-world</td>\n      <td>0.0</td>\n      <td>0.000000</td>\n      <td>Ingles</td>\n    </tr>\n    <tr>\n      <th>621</th>\n      <td>The fundamentals of hotel distribution</td>\n      <td>hotel-distribution</td>\n      <td>0.0</td>\n      <td>0.000000</td>\n      <td>Ingles</td>\n    </tr>\n    <tr>\n      <th>622</th>\n      <td>A Crash Course in Data Science</td>\n      <td>data-science-course</td>\n      <td>0.0</td>\n      <td>0.000000</td>\n      <td>Ingles</td>\n    </tr>\n  </tbody>\n</table>\n<p>623 rows × 5 columns</p>\n</div>"
     },
     "metadata": {},
     "execution_count": 230
    }
   ],
   "source": [
    "data_coursera"
   ]
  },
  {
   "source": [
    "Procedo a cargar un Dataset el cual contiene información respectiva al Rating y a la Dificultad de los cursos de la plataforma de coursera"
   ],
   "cell_type": "markdown",
   "metadata": {}
  },
  {
   "cell_type": "code",
   "execution_count": null,
   "metadata": {},
   "outputs": [],
   "source": [
    "data_coursera_kaggle = pd.read_csv('coursera-course-detail-data.csv')"
   ]
  },
  {
   "cell_type": "code",
   "execution_count": 266,
   "metadata": {},
   "outputs": [
    {
     "output_type": "execute_result",
     "data": {
      "text/plain": [
       "   Unnamed: 0                                               name  \\\n",
       "0           0                        \"Making\" Progress Teach-Out   \n",
       "1           1         (Business Writing) الكتابة في مجال الأعمال   \n",
       "2           2  (Giving Helpful Feedback) إعطاء الملاحظات المفيدة   \n",
       "3           3    (Successful Presentation) العرض التقديمي الناجح   \n",
       "4           4                                 .Net平台下的软件开发技术毕业项目   \n",
       "\n",
       "                                                 Url Rating      Difficulty  \\\n",
       "0          https://coursera.org/learn/makingprogress   None  Beginner Level   \n",
       "1  https://coursera.org/learn/writing-for-busines...   None  Beginner Level   \n",
       "2             https://coursera.org/learn/feedback-ar    4.8            None   \n",
       "3  https://coursera.org/learn/presentation-skills-ar    4.9  Beginner Level   \n",
       "4  https://coursera.org/learn/net-ruanjian-kaifa-...   None            None   \n",
       "\n",
       "                                            Tags  \n",
       "0  ['Social Sciences', 'Governance and Society']  \n",
       "1            ['Business', 'Business Essentials']  \n",
       "2            ['Business', 'Business Essentials']  \n",
       "3            ['Business', 'Business Essentials']  \n",
       "4   ['Computer Science', 'Software Development']  "
      ],
      "text/html": "<div>\n<style scoped>\n    .dataframe tbody tr th:only-of-type {\n        vertical-align: middle;\n    }\n\n    .dataframe tbody tr th {\n        vertical-align: top;\n    }\n\n    .dataframe thead th {\n        text-align: right;\n    }\n</style>\n<table border=\"1\" class=\"dataframe\">\n  <thead>\n    <tr style=\"text-align: right;\">\n      <th></th>\n      <th>Unnamed: 0</th>\n      <th>name</th>\n      <th>Url</th>\n      <th>Rating</th>\n      <th>Difficulty</th>\n      <th>Tags</th>\n    </tr>\n  </thead>\n  <tbody>\n    <tr>\n      <th>0</th>\n      <td>0</td>\n      <td>\"Making\" Progress Teach-Out</td>\n      <td>https://coursera.org/learn/makingprogress</td>\n      <td>None</td>\n      <td>Beginner Level</td>\n      <td>['Social Sciences', 'Governance and Society']</td>\n    </tr>\n    <tr>\n      <th>1</th>\n      <td>1</td>\n      <td>(Business Writing) الكتابة في مجال الأعمال</td>\n      <td>https://coursera.org/learn/writing-for-busines...</td>\n      <td>None</td>\n      <td>Beginner Level</td>\n      <td>['Business', 'Business Essentials']</td>\n    </tr>\n    <tr>\n      <th>2</th>\n      <td>2</td>\n      <td>(Giving Helpful Feedback) إعطاء الملاحظات المفيدة</td>\n      <td>https://coursera.org/learn/feedback-ar</td>\n      <td>4.8</td>\n      <td>None</td>\n      <td>['Business', 'Business Essentials']</td>\n    </tr>\n    <tr>\n      <th>3</th>\n      <td>3</td>\n      <td>(Successful Presentation) العرض التقديمي الناجح</td>\n      <td>https://coursera.org/learn/presentation-skills-ar</td>\n      <td>4.9</td>\n      <td>Beginner Level</td>\n      <td>['Business', 'Business Essentials']</td>\n    </tr>\n    <tr>\n      <th>4</th>\n      <td>4</td>\n      <td>.Net平台下的软件开发技术毕业项目</td>\n      <td>https://coursera.org/learn/net-ruanjian-kaifa-...</td>\n      <td>None</td>\n      <td>None</td>\n      <td>['Computer Science', 'Software Development']</td>\n    </tr>\n  </tbody>\n</table>\n</div>"
     },
     "metadata": {},
     "execution_count": 266
    }
   ],
   "source": [
    "data_coursera_kaggle.head()"
   ]
  },
  {
   "source": [
    "Unifico esta información con el ultimo dataframe que cree con la información de Coursera."
   ],
   "cell_type": "markdown",
   "metadata": {}
  },
  {
   "cell_type": "code",
   "execution_count": null,
   "metadata": {},
   "outputs": [],
   "source": [
    "data_coursera_final = pd.merge(data_coursera,data_coursera_kaggle, how='outer')"
   ]
  },
  {
   "cell_type": "code",
   "execution_count": 267,
   "metadata": {},
   "outputs": [
    {
     "output_type": "execute_result",
     "data": {
      "text/plain": [
       "                                                name  \\\n",
       "0  Programming for Everybody (Getting Started wit...   \n",
       "1                                   Machine Learning   \n",
       "2                  Neural Networks and Deep Learning   \n",
       "3                     Technical Support Fundamentals   \n",
       "4  Learning How to Learn: Powerful mental tools t...   \n",
       "\n",
       "                        course_id  n_reviews  idioma Rating  \\\n",
       "0                          python    15226.0  Ingles    4.8   \n",
       "1                machine-learning    12677.0  Ingles    4.9   \n",
       "2   neural-networks-deep-learning    12291.0  Ingles    4.9   \n",
       "3  technical-support-fundamentals    12054.0  Ingles    4.8   \n",
       "4           learning-how-to-learn    11871.0  Ingles    4.8   \n",
       "\n",
       "           Difficulty  \n",
       "0           All Level  \n",
       "1           All Level  \n",
       "2  Intermediate Level  \n",
       "3      Beginner Level  \n",
       "4           All Level  "
      ],
      "text/html": "<div>\n<style scoped>\n    .dataframe tbody tr th:only-of-type {\n        vertical-align: middle;\n    }\n\n    .dataframe tbody tr th {\n        vertical-align: top;\n    }\n\n    .dataframe thead th {\n        text-align: right;\n    }\n</style>\n<table border=\"1\" class=\"dataframe\">\n  <thead>\n    <tr style=\"text-align: right;\">\n      <th></th>\n      <th>name</th>\n      <th>course_id</th>\n      <th>n_reviews</th>\n      <th>idioma</th>\n      <th>Rating</th>\n      <th>Difficulty</th>\n    </tr>\n  </thead>\n  <tbody>\n    <tr>\n      <th>0</th>\n      <td>Programming for Everybody (Getting Started wit...</td>\n      <td>python</td>\n      <td>15226.0</td>\n      <td>Ingles</td>\n      <td>4.8</td>\n      <td>All Level</td>\n    </tr>\n    <tr>\n      <th>1</th>\n      <td>Machine Learning</td>\n      <td>machine-learning</td>\n      <td>12677.0</td>\n      <td>Ingles</td>\n      <td>4.9</td>\n      <td>All Level</td>\n    </tr>\n    <tr>\n      <th>2</th>\n      <td>Neural Networks and Deep Learning</td>\n      <td>neural-networks-deep-learning</td>\n      <td>12291.0</td>\n      <td>Ingles</td>\n      <td>4.9</td>\n      <td>Intermediate Level</td>\n    </tr>\n    <tr>\n      <th>3</th>\n      <td>Technical Support Fundamentals</td>\n      <td>technical-support-fundamentals</td>\n      <td>12054.0</td>\n      <td>Ingles</td>\n      <td>4.8</td>\n      <td>Beginner Level</td>\n    </tr>\n    <tr>\n      <th>4</th>\n      <td>Learning How to Learn: Powerful mental tools t...</td>\n      <td>learning-how-to-learn</td>\n      <td>11871.0</td>\n      <td>Ingles</td>\n      <td>4.8</td>\n      <td>All Level</td>\n    </tr>\n  </tbody>\n</table>\n</div>"
     },
     "metadata": {},
     "execution_count": 267
    }
   ],
   "source": [
    "data_coursera_final.head()"
   ]
  },
  {
   "source": [
    "Debido a que algunos cursos no contenian información con respecto al número de reviews se ve reflejado en un Rating de 0."
   ],
   "cell_type": "markdown",
   "metadata": {}
  },
  {
   "source": [
    "Este ultimo archivo CSV contiene la informacion de los estudiantes inscriptos en las diferentes clases de Coursera"
   ],
   "cell_type": "markdown",
   "metadata": {}
  },
  {
   "cell_type": "code",
   "execution_count": 324,
   "metadata": {},
   "outputs": [],
   "source": [
    "data_coursera_git = pd.read_csv('UCoursera_Courses.csv')"
   ]
  },
  {
   "cell_type": "code",
   "execution_count": 325,
   "metadata": {},
   "outputs": [
    {
     "output_type": "execute_result",
     "data": {
      "text/plain": [
       "   Unnamed: 0                                       course_title  \\\n",
       "0         134  (ISC)² Systems Security Certified Practitioner...   \n",
       "1         743  A Crash Course in Causality:  Inferring Causal...   \n",
       "2         874                     A Crash Course in Data Science   \n",
       "3         413                            A Law Student's Toolkit   \n",
       "4         635                A Life of Happiness and Fulfillment   \n",
       "\n",
       "          course_organization course_Certificate_type  course_rating  \\\n",
       "0                      (ISC)²          SPECIALIZATION            4.7   \n",
       "1  University of Pennsylvania                  COURSE            4.7   \n",
       "2    Johns Hopkins University                  COURSE            4.5   \n",
       "3             Yale University                  COURSE            4.7   \n",
       "4   Indian School of Business                  COURSE            4.8   \n",
       "\n",
       "  course_difficulty course_students_enrolled  \n",
       "0          Beginner                     5.3k  \n",
       "1      Intermediate                      17k  \n",
       "2             Mixed                     130k  \n",
       "3             Mixed                      91k  \n",
       "4             Mixed                     320k  "
      ],
      "text/html": "<div>\n<style scoped>\n    .dataframe tbody tr th:only-of-type {\n        vertical-align: middle;\n    }\n\n    .dataframe tbody tr th {\n        vertical-align: top;\n    }\n\n    .dataframe thead th {\n        text-align: right;\n    }\n</style>\n<table border=\"1\" class=\"dataframe\">\n  <thead>\n    <tr style=\"text-align: right;\">\n      <th></th>\n      <th>Unnamed: 0</th>\n      <th>course_title</th>\n      <th>course_organization</th>\n      <th>course_Certificate_type</th>\n      <th>course_rating</th>\n      <th>course_difficulty</th>\n      <th>course_students_enrolled</th>\n    </tr>\n  </thead>\n  <tbody>\n    <tr>\n      <th>0</th>\n      <td>134</td>\n      <td>(ISC)² Systems Security Certified Practitioner...</td>\n      <td>(ISC)²</td>\n      <td>SPECIALIZATION</td>\n      <td>4.7</td>\n      <td>Beginner</td>\n      <td>5.3k</td>\n    </tr>\n    <tr>\n      <th>1</th>\n      <td>743</td>\n      <td>A Crash Course in Causality:  Inferring Causal...</td>\n      <td>University of Pennsylvania</td>\n      <td>COURSE</td>\n      <td>4.7</td>\n      <td>Intermediate</td>\n      <td>17k</td>\n    </tr>\n    <tr>\n      <th>2</th>\n      <td>874</td>\n      <td>A Crash Course in Data Science</td>\n      <td>Johns Hopkins University</td>\n      <td>COURSE</td>\n      <td>4.5</td>\n      <td>Mixed</td>\n      <td>130k</td>\n    </tr>\n    <tr>\n      <th>3</th>\n      <td>413</td>\n      <td>A Law Student's Toolkit</td>\n      <td>Yale University</td>\n      <td>COURSE</td>\n      <td>4.7</td>\n      <td>Mixed</td>\n      <td>91k</td>\n    </tr>\n    <tr>\n      <th>4</th>\n      <td>635</td>\n      <td>A Life of Happiness and Fulfillment</td>\n      <td>Indian School of Business</td>\n      <td>COURSE</td>\n      <td>4.8</td>\n      <td>Mixed</td>\n      <td>320k</td>\n    </tr>\n  </tbody>\n</table>\n</div>"
     },
     "metadata": {},
     "execution_count": 325
    }
   ],
   "source": [
    "data_coursera_git.head()"
   ]
  },
  {
   "source": [
    "Elimino columnas que no me sean necesarias en el analisis"
   ],
   "cell_type": "markdown",
   "metadata": {}
  },
  {
   "cell_type": "code",
   "execution_count": 327,
   "metadata": {},
   "outputs": [],
   "source": [
    "data_coursera_git.drop(columns=['Unnamed: 0','course_organization','course_Certificate_type'],inplace=True)"
   ]
  },
  {
   "cell_type": "code",
   "execution_count": 335,
   "metadata": {},
   "outputs": [],
   "source": [
    "data_coursera_git_final = pd.merge(data_coursera_git,data_coursera_final)"
   ]
  },
  {
   "cell_type": "code",
   "execution_count": 338,
   "metadata": {},
   "outputs": [],
   "source": [
    "data_coursera_git_final.drop(columns=['Rating','n_reviews','course_id','dificultad'],inplace=True)"
   ]
  },
  {
   "cell_type": "code",
   "execution_count": null,
   "metadata": {},
   "outputs": [],
   "source": [
    "data_coursera_git_final.isna"
   ]
  },
  {
   "source": [
    "Procedo a exportar el dataset final revisado para utilizarlo en el dashboard"
   ],
   "cell_type": "markdown",
   "metadata": {}
  },
  {
   "cell_type": "code",
   "execution_count": 334,
   "metadata": {},
   "outputs": [
    {
     "output_type": "execute_result",
     "data": {
      "text/plain": [
       "                                          course_title  \\\n",
       "0    Programming for Everybody (Getting Started wit...   \n",
       "1                                     Machine Learning   \n",
       "2                    Neural Networks and Deep Learning   \n",
       "3                       Technical Support Fundamentals   \n",
       "4    Learning How to Learn: Powerful mental tools t...   \n",
       "..                                                 ...   \n",
       "621            Digital Marketing Analytics in Practice   \n",
       "622                    Dairy Production and Management   \n",
       "623  Security & Safety Challenges in a Globalized W...   \n",
       "624             The fundamentals of hotel distribution   \n",
       "625                     A Crash Course in Data Science   \n",
       "\n",
       "                            course_id  n_reviews  idioma Rating  \\\n",
       "0                              python    15226.0  Ingles    4.8   \n",
       "1                    machine-learning    12677.0  Ingles    4.9   \n",
       "2       neural-networks-deep-learning    12291.0  Ingles    4.9   \n",
       "3      technical-support-fundamentals    12054.0  Ingles    4.8   \n",
       "4               learning-how-to-learn    11871.0  Ingles    4.8   \n",
       "..                                ...        ...     ...    ...   \n",
       "621                 digital-analytics        0.0  Ingles      0   \n",
       "622                  dairy-production        0.0  Ingles    4.8   \n",
       "623  security-safety-globalized-world        0.0  Ingles    4.7   \n",
       "624                hotel-distribution        0.0  Ingles    4.7   \n",
       "625               data-science-course        0.0  Ingles    4.5   \n",
       "\n",
       "             dificultad Plataforma  \n",
       "0             All Level   Coursera  \n",
       "1             All Level   Coursera  \n",
       "2    Intermediate Level   Coursera  \n",
       "3        Beginner Level   Coursera  \n",
       "4             All Level   Coursera  \n",
       "..                  ...        ...  \n",
       "621           All Level   Coursera  \n",
       "622           All Level   Coursera  \n",
       "623      Beginner Level   Coursera  \n",
       "624           All Level   Coursera  \n",
       "625           All Level   Coursera  \n",
       "\n",
       "[626 rows x 7 columns]"
      ],
      "text/html": "<div>\n<style scoped>\n    .dataframe tbody tr th:only-of-type {\n        vertical-align: middle;\n    }\n\n    .dataframe tbody tr th {\n        vertical-align: top;\n    }\n\n    .dataframe thead th {\n        text-align: right;\n    }\n</style>\n<table border=\"1\" class=\"dataframe\">\n  <thead>\n    <tr style=\"text-align: right;\">\n      <th></th>\n      <th>course_title</th>\n      <th>course_id</th>\n      <th>n_reviews</th>\n      <th>idioma</th>\n      <th>Rating</th>\n      <th>dificultad</th>\n      <th>Plataforma</th>\n    </tr>\n  </thead>\n  <tbody>\n    <tr>\n      <th>0</th>\n      <td>Programming for Everybody (Getting Started wit...</td>\n      <td>python</td>\n      <td>15226.0</td>\n      <td>Ingles</td>\n      <td>4.8</td>\n      <td>All Level</td>\n      <td>Coursera</td>\n    </tr>\n    <tr>\n      <th>1</th>\n      <td>Machine Learning</td>\n      <td>machine-learning</td>\n      <td>12677.0</td>\n      <td>Ingles</td>\n      <td>4.9</td>\n      <td>All Level</td>\n      <td>Coursera</td>\n    </tr>\n    <tr>\n      <th>2</th>\n      <td>Neural Networks and Deep Learning</td>\n      <td>neural-networks-deep-learning</td>\n      <td>12291.0</td>\n      <td>Ingles</td>\n      <td>4.9</td>\n      <td>Intermediate Level</td>\n      <td>Coursera</td>\n    </tr>\n    <tr>\n      <th>3</th>\n      <td>Technical Support Fundamentals</td>\n      <td>technical-support-fundamentals</td>\n      <td>12054.0</td>\n      <td>Ingles</td>\n      <td>4.8</td>\n      <td>Beginner Level</td>\n      <td>Coursera</td>\n    </tr>\n    <tr>\n      <th>4</th>\n      <td>Learning How to Learn: Powerful mental tools t...</td>\n      <td>learning-how-to-learn</td>\n      <td>11871.0</td>\n      <td>Ingles</td>\n      <td>4.8</td>\n      <td>All Level</td>\n      <td>Coursera</td>\n    </tr>\n    <tr>\n      <th>...</th>\n      <td>...</td>\n      <td>...</td>\n      <td>...</td>\n      <td>...</td>\n      <td>...</td>\n      <td>...</td>\n      <td>...</td>\n    </tr>\n    <tr>\n      <th>621</th>\n      <td>Digital Marketing Analytics in Practice</td>\n      <td>digital-analytics</td>\n      <td>0.0</td>\n      <td>Ingles</td>\n      <td>0</td>\n      <td>All Level</td>\n      <td>Coursera</td>\n    </tr>\n    <tr>\n      <th>622</th>\n      <td>Dairy Production and Management</td>\n      <td>dairy-production</td>\n      <td>0.0</td>\n      <td>Ingles</td>\n      <td>4.8</td>\n      <td>All Level</td>\n      <td>Coursera</td>\n    </tr>\n    <tr>\n      <th>623</th>\n      <td>Security &amp; Safety Challenges in a Globalized W...</td>\n      <td>security-safety-globalized-world</td>\n      <td>0.0</td>\n      <td>Ingles</td>\n      <td>4.7</td>\n      <td>Beginner Level</td>\n      <td>Coursera</td>\n    </tr>\n    <tr>\n      <th>624</th>\n      <td>The fundamentals of hotel distribution</td>\n      <td>hotel-distribution</td>\n      <td>0.0</td>\n      <td>Ingles</td>\n      <td>4.7</td>\n      <td>All Level</td>\n      <td>Coursera</td>\n    </tr>\n    <tr>\n      <th>625</th>\n      <td>A Crash Course in Data Science</td>\n      <td>data-science-course</td>\n      <td>0.0</td>\n      <td>Ingles</td>\n      <td>4.5</td>\n      <td>All Level</td>\n      <td>Coursera</td>\n    </tr>\n  </tbody>\n</table>\n<p>626 rows × 7 columns</p>\n</div>"
     },
     "metadata": {},
     "execution_count": 334
    }
   ],
   "source": [
    "data_coursera_final"
   ]
  },
  {
   "cell_type": "code",
   "execution_count": 268,
   "metadata": {},
   "outputs": [],
   "source": [
    "data_coursera_git_final.to_csv('data_coursera_revisado.csv')"
   ]
  },
  {
   "cell_type": "code",
   "execution_count": null,
   "metadata": {},
   "outputs": [],
   "source": []
  },
  {
   "cell_type": "code",
   "execution_count": null,
   "metadata": {},
   "outputs": [],
   "source": []
  },
  {
   "source": [
    "-------------------------------------------------------------------------------------------"
   ],
   "cell_type": "markdown",
   "metadata": {}
  },
  {
   "source": [
    "                                                    EDX EDA"
   ],
   "cell_type": "markdown",
   "metadata": {}
  },
  {
   "source": [
    "Cargamos dataset edx_courses.csv\n"
   ],
   "cell_type": "markdown",
   "metadata": {}
  },
  {
   "cell_type": "code",
   "execution_count": 93,
   "metadata": {},
   "outputs": [],
   "source": [
    "data_edx = pd.read_csv('./edx_courses.csv')"
   ]
  },
  {
   "cell_type": "code",
   "execution_count": 94,
   "metadata": {},
   "outputs": [
    {
     "output_type": "execute_result",
     "data": {
      "text/plain": [
       "                                               title  \\\n",
       "0                                How to Learn Online   \n",
       "1  Programming for Everybody (Getting Started wit...   \n",
       "2            CS50's Introduction to Computer Science   \n",
       "3                                 The Analytics Edge   \n",
       "4  Marketing Analytics: Marketing Measurement Str...   \n",
       "\n",
       "                                             summary n_enrolled  \\\n",
       "0  Learn essential strategies for successful onli...    124,980   \n",
       "1  This course is a \"no prerequisite\" introductio...    293,864   \n",
       "2  An introduction to the intellectual enterprise...  2,442,271   \n",
       "3  Through inspiring examples and stories, discov...    129,555   \n",
       "4     This course is part of a MicroMasters® Program     81,140   \n",
       "\n",
       "                           course_type                            institution  \\\n",
       "0              Self-paced on your time                                    edX   \n",
       "1              Self-paced on your time             The University of Michigan   \n",
       "2              Self-paced on your time                     Harvard University   \n",
       "3  Instructor-led on a course schedule  Massachusetts Institute of Technology   \n",
       "4              Self-paced on your time     University of California, Berkeley   \n",
       "\n",
       "                                         instructors         Level  \\\n",
       "0            Nina Huntemann-Robyn Belair-Ben Piscopo  Introductory   \n",
       "1                                  Charles Severance  Introductory   \n",
       "2                 David J. Malan-Doug Lloyd-Brian Yu  Introductory   \n",
       "3  Dimitris Bertsimas-Allison O'Hair-John Silberh...  Intermediate   \n",
       "4                                     Stephan Sorger  Introductory   \n",
       "\n",
       "                        subject language subtitles         course_effort  \\\n",
       "0  Education & Teacher Training  English   English    2–3 hours per week   \n",
       "1              Computer Science  English   English    2–4 hours per week   \n",
       "2              Computer Science  English   English   6–18 hours per week   \n",
       "3    Data Analysis & Statistics  English   English  10–15 hours per week   \n",
       "4              Computer Science  English   English    5–7 hours per week   \n",
       "\n",
       "  course_length                                         price  \\\n",
       "0       2 Weeks   FREE-Add a Verified Certificate for $49 USD   \n",
       "1       7 Weeks   FREE-Add a Verified Certificate for $49 USD   \n",
       "2      12 Weeks   FREE-Add a Verified Certificate for $90 USD   \n",
       "3      13 Weeks  FREE-Add a Verified Certificate for $199 USD   \n",
       "4       4 Weeks  FREE-Add a Verified Certificate for $249 USD   \n",
       "\n",
       "                                  course_description  \\\n",
       "0  Designed for those who are new to elearning, t...   \n",
       "1  This course aims to teach everyone the basics ...   \n",
       "2  This is CS50x , Harvard University's introduct...   \n",
       "3  In the last decade, the amount of data availab...   \n",
       "4  Begin your journey in a new career in marketin...   \n",
       "\n",
       "                                     course_syllabus  \\\n",
       "0  Welcome - We start with opportunities to meet ...   \n",
       "1                                                NaN   \n",
       "2                                                NaN   \n",
       "3                                                NaN   \n",
       "4                                                NaN   \n",
       "\n",
       "                                          course_url  \n",
       "0     https://www.edx.org/course/how-to-learn-online  \n",
       "1  https://www.edx.org/course/programming-for-eve...  \n",
       "2  https://www.edx.org/course/cs50s-introduction-...  \n",
       "3      https://www.edx.org/course/the-analytics-edge  \n",
       "4  https://www.edx.org/course/marketing-analytics...  "
      ],
      "text/html": "<div>\n<style scoped>\n    .dataframe tbody tr th:only-of-type {\n        vertical-align: middle;\n    }\n\n    .dataframe tbody tr th {\n        vertical-align: top;\n    }\n\n    .dataframe thead th {\n        text-align: right;\n    }\n</style>\n<table border=\"1\" class=\"dataframe\">\n  <thead>\n    <tr style=\"text-align: right;\">\n      <th></th>\n      <th>title</th>\n      <th>summary</th>\n      <th>n_enrolled</th>\n      <th>course_type</th>\n      <th>institution</th>\n      <th>instructors</th>\n      <th>Level</th>\n      <th>subject</th>\n      <th>language</th>\n      <th>subtitles</th>\n      <th>course_effort</th>\n      <th>course_length</th>\n      <th>price</th>\n      <th>course_description</th>\n      <th>course_syllabus</th>\n      <th>course_url</th>\n    </tr>\n  </thead>\n  <tbody>\n    <tr>\n      <th>0</th>\n      <td>How to Learn Online</td>\n      <td>Learn essential strategies for successful onli...</td>\n      <td>124,980</td>\n      <td>Self-paced on your time</td>\n      <td>edX</td>\n      <td>Nina Huntemann-Robyn Belair-Ben Piscopo</td>\n      <td>Introductory</td>\n      <td>Education &amp; Teacher Training</td>\n      <td>English</td>\n      <td>English</td>\n      <td>2–3 hours per week</td>\n      <td>2 Weeks</td>\n      <td>FREE-Add a Verified Certificate for $49 USD</td>\n      <td>Designed for those who are new to elearning, t...</td>\n      <td>Welcome - We start with opportunities to meet ...</td>\n      <td>https://www.edx.org/course/how-to-learn-online</td>\n    </tr>\n    <tr>\n      <th>1</th>\n      <td>Programming for Everybody (Getting Started wit...</td>\n      <td>This course is a \"no prerequisite\" introductio...</td>\n      <td>293,864</td>\n      <td>Self-paced on your time</td>\n      <td>The University of Michigan</td>\n      <td>Charles Severance</td>\n      <td>Introductory</td>\n      <td>Computer Science</td>\n      <td>English</td>\n      <td>English</td>\n      <td>2–4 hours per week</td>\n      <td>7 Weeks</td>\n      <td>FREE-Add a Verified Certificate for $49 USD</td>\n      <td>This course aims to teach everyone the basics ...</td>\n      <td>NaN</td>\n      <td>https://www.edx.org/course/programming-for-eve...</td>\n    </tr>\n    <tr>\n      <th>2</th>\n      <td>CS50's Introduction to Computer Science</td>\n      <td>An introduction to the intellectual enterprise...</td>\n      <td>2,442,271</td>\n      <td>Self-paced on your time</td>\n      <td>Harvard University</td>\n      <td>David J. Malan-Doug Lloyd-Brian Yu</td>\n      <td>Introductory</td>\n      <td>Computer Science</td>\n      <td>English</td>\n      <td>English</td>\n      <td>6–18 hours per week</td>\n      <td>12 Weeks</td>\n      <td>FREE-Add a Verified Certificate for $90 USD</td>\n      <td>This is CS50x , Harvard University's introduct...</td>\n      <td>NaN</td>\n      <td>https://www.edx.org/course/cs50s-introduction-...</td>\n    </tr>\n    <tr>\n      <th>3</th>\n      <td>The Analytics Edge</td>\n      <td>Through inspiring examples and stories, discov...</td>\n      <td>129,555</td>\n      <td>Instructor-led on a course schedule</td>\n      <td>Massachusetts Institute of Technology</td>\n      <td>Dimitris Bertsimas-Allison O'Hair-John Silberh...</td>\n      <td>Intermediate</td>\n      <td>Data Analysis &amp; Statistics</td>\n      <td>English</td>\n      <td>English</td>\n      <td>10–15 hours per week</td>\n      <td>13 Weeks</td>\n      <td>FREE-Add a Verified Certificate for $199 USD</td>\n      <td>In the last decade, the amount of data availab...</td>\n      <td>NaN</td>\n      <td>https://www.edx.org/course/the-analytics-edge</td>\n    </tr>\n    <tr>\n      <th>4</th>\n      <td>Marketing Analytics: Marketing Measurement Str...</td>\n      <td>This course is part of a MicroMasters® Program</td>\n      <td>81,140</td>\n      <td>Self-paced on your time</td>\n      <td>University of California, Berkeley</td>\n      <td>Stephan Sorger</td>\n      <td>Introductory</td>\n      <td>Computer Science</td>\n      <td>English</td>\n      <td>English</td>\n      <td>5–7 hours per week</td>\n      <td>4 Weeks</td>\n      <td>FREE-Add a Verified Certificate for $249 USD</td>\n      <td>Begin your journey in a new career in marketin...</td>\n      <td>NaN</td>\n      <td>https://www.edx.org/course/marketing-analytics...</td>\n    </tr>\n  </tbody>\n</table>\n</div>"
     },
     "metadata": {},
     "execution_count": 94
    }
   ],
   "source": [
    "data_edx.head()"
   ]
  },
  {
   "source": [
    "Análisis exploratorio para conocer la estructura de los datos y ver si hay errores."
   ],
   "cell_type": "markdown",
   "metadata": {}
  },
  {
   "cell_type": "code",
   "execution_count": 95,
   "metadata": {},
   "outputs": [
    {
     "output_type": "stream",
     "name": "stdout",
     "text": [
      "<class 'pandas.core.frame.DataFrame'>\nRangeIndex: 975 entries, 0 to 974\nData columns (total 16 columns):\n #   Column              Non-Null Count  Dtype \n---  ------              --------------  ----- \n 0   title               975 non-null    object\n 1   summary             922 non-null    object\n 2   n_enrolled          855 non-null    object\n 3   course_type         975 non-null    object\n 4   institution         975 non-null    object\n 5   instructors         972 non-null    object\n 6   Level               975 non-null    object\n 7   subject             975 non-null    object\n 8   language            975 non-null    object\n 9   subtitles           972 non-null    object\n 10  course_effort       975 non-null    object\n 11  course_length       975 non-null    object\n 12  price               975 non-null    object\n 13  course_description  935 non-null    object\n 14  course_syllabus     417 non-null    object\n 15  course_url          975 non-null    object\ndtypes: object(16)\nmemory usage: 122.0+ KB\n"
     ]
    },
    {
     "output_type": "execute_result",
     "data": {
      "text/plain": [
       "title                   0\n",
       "summary                53\n",
       "n_enrolled            120\n",
       "course_type             0\n",
       "institution             0\n",
       "instructors             3\n",
       "Level                   0\n",
       "subject                 0\n",
       "language                0\n",
       "subtitles               3\n",
       "course_effort           0\n",
       "course_length           0\n",
       "price                   0\n",
       "course_description     40\n",
       "course_syllabus       558\n",
       "course_url              0\n",
       "dtype: int64"
      ]
     },
     "metadata": {},
     "execution_count": 95
    }
   ],
   "source": [
    "data_edx.info()\n",
    "data_edx.value_counts()\n",
    "data_edx.isna().sum()"
   ]
  },
  {
   "source": [
    "Chequeo duplicados"
   ],
   "cell_type": "markdown",
   "metadata": {}
  },
  {
   "cell_type": "code",
   "execution_count": 99,
   "metadata": {},
   "outputs": [
    {
     "output_type": "execute_result",
     "data": {
      "text/plain": [
       "False    974\n",
       "True       1\n",
       "dtype: int64"
      ]
     },
     "metadata": {},
     "execution_count": 99
    }
   ],
   "source": [
    "data_edx.duplicated().value_counts()"
   ]
  },
  {
   "source": [
    "SE ENCONTRARON VALORES NULOS Y UN VALOR DUPLICADO.\n",
    "APLICAMOS UNA LIMPIEZA DE LOS DATOS Y GUARDAMOS EL RESULTADO EN OTRO DATAFRAME"
   ],
   "cell_type": "markdown",
   "metadata": {}
  },
  {
   "cell_type": "code",
   "execution_count": 100,
   "metadata": {},
   "outputs": [],
   "source": [
    "data_edx.drop_duplicates(inplace=True) #Eliminamos valores duplicados"
   ]
  },
  {
   "source": [
    "Me quedo con las columnas que tengan relevancia para el análisis y las guardo en un duplicado para asi conservar el original.\n"
   ],
   "cell_type": "markdown",
   "metadata": {}
  },
  {
   "cell_type": "code",
   "execution_count": 230,
   "metadata": {},
   "outputs": [],
   "source": [
    "data_edx_corregido = data_edx[['title','price','n_enrolled','Level','language','subject']]"
   ]
  },
  {
   "cell_type": "code",
   "execution_count": 231,
   "metadata": {},
   "outputs": [
    {
     "output_type": "execute_result",
     "data": {
      "text/plain": [
       "                                               title  \\\n",
       "0                                How to Learn Online   \n",
       "1  Programming for Everybody (Getting Started wit...   \n",
       "2            CS50's Introduction to Computer Science   \n",
       "3                                 The Analytics Edge   \n",
       "4  Marketing Analytics: Marketing Measurement Str...   \n",
       "\n",
       "                                          price n_enrolled         Level  \\\n",
       "0   FREE-Add a Verified Certificate for $49 USD    124,980  Introductory   \n",
       "1   FREE-Add a Verified Certificate for $49 USD    293,864  Introductory   \n",
       "2   FREE-Add a Verified Certificate for $90 USD  2,442,271  Introductory   \n",
       "3  FREE-Add a Verified Certificate for $199 USD    129,555  Intermediate   \n",
       "4  FREE-Add a Verified Certificate for $249 USD     81,140  Introductory   \n",
       "\n",
       "  language                       subject  \n",
       "0  English  Education & Teacher Training  \n",
       "1  English              Computer Science  \n",
       "2  English              Computer Science  \n",
       "3  English    Data Analysis & Statistics  \n",
       "4  English              Computer Science  "
      ],
      "text/html": "<div>\n<style scoped>\n    .dataframe tbody tr th:only-of-type {\n        vertical-align: middle;\n    }\n\n    .dataframe tbody tr th {\n        vertical-align: top;\n    }\n\n    .dataframe thead th {\n        text-align: right;\n    }\n</style>\n<table border=\"1\" class=\"dataframe\">\n  <thead>\n    <tr style=\"text-align: right;\">\n      <th></th>\n      <th>title</th>\n      <th>price</th>\n      <th>n_enrolled</th>\n      <th>Level</th>\n      <th>language</th>\n      <th>subject</th>\n    </tr>\n  </thead>\n  <tbody>\n    <tr>\n      <th>0</th>\n      <td>How to Learn Online</td>\n      <td>FREE-Add a Verified Certificate for $49 USD</td>\n      <td>124,980</td>\n      <td>Introductory</td>\n      <td>English</td>\n      <td>Education &amp; Teacher Training</td>\n    </tr>\n    <tr>\n      <th>1</th>\n      <td>Programming for Everybody (Getting Started wit...</td>\n      <td>FREE-Add a Verified Certificate for $49 USD</td>\n      <td>293,864</td>\n      <td>Introductory</td>\n      <td>English</td>\n      <td>Computer Science</td>\n    </tr>\n    <tr>\n      <th>2</th>\n      <td>CS50's Introduction to Computer Science</td>\n      <td>FREE-Add a Verified Certificate for $90 USD</td>\n      <td>2,442,271</td>\n      <td>Introductory</td>\n      <td>English</td>\n      <td>Computer Science</td>\n    </tr>\n    <tr>\n      <th>3</th>\n      <td>The Analytics Edge</td>\n      <td>FREE-Add a Verified Certificate for $199 USD</td>\n      <td>129,555</td>\n      <td>Intermediate</td>\n      <td>English</td>\n      <td>Data Analysis &amp; Statistics</td>\n    </tr>\n    <tr>\n      <th>4</th>\n      <td>Marketing Analytics: Marketing Measurement Str...</td>\n      <td>FREE-Add a Verified Certificate for $249 USD</td>\n      <td>81,140</td>\n      <td>Introductory</td>\n      <td>English</td>\n      <td>Computer Science</td>\n    </tr>\n  </tbody>\n</table>\n</div>"
     },
     "metadata": {},
     "execution_count": 231
    }
   ],
   "source": [
    "data_edx_corregido.head()"
   ]
  },
  {
   "source": [
    "Reviso valores nulos de la columna 'n_enrolled'"
   ],
   "cell_type": "markdown",
   "metadata": {}
  },
  {
   "cell_type": "code",
   "execution_count": 251,
   "metadata": {},
   "outputs": [
    {
     "output_type": "execute_result",
     "data": {
      "text/plain": [
       "False    854\n",
       "True     120\n",
       "Name: n_enrolled, dtype: int64"
      ]
     },
     "metadata": {},
     "execution_count": 251
    }
   ],
   "source": [
    "data_edx_corregido['n_enrolled'].isna().value_counts()"
   ]
  },
  {
   "source": [
    "Rellenamos los valores de la columna 'n_enrolled' con 0 para que no genere problemas en el análisis."
   ],
   "cell_type": "markdown",
   "metadata": {}
  },
  {
   "cell_type": "code",
   "execution_count": 256,
   "metadata": {},
   "outputs": [
    {
     "output_type": "execute_result",
     "data": {
      "text/plain": [
       "0        124,980\n",
       "1        293,864\n",
       "2      2,442,271\n",
       "3        129,555\n",
       "4         81,140\n",
       "         ...    \n",
       "970            0\n",
       "971            0\n",
       "972       11,246\n",
       "973        8,775\n",
       "974            0\n",
       "Name: n_enrolled, Length: 974, dtype: object"
      ]
     },
     "metadata": {},
     "execution_count": 256
    }
   ],
   "source": [
    "data_edx_corregido['n_enrolled'].fillna(0)"
   ]
  },
  {
   "source": [
    "Reviso valores unicos."
   ],
   "cell_type": "markdown",
   "metadata": {}
  },
  {
   "cell_type": "code",
   "execution_count": 130,
   "metadata": {},
   "outputs": [
    {
     "output_type": "execute_result",
     "data": {
      "text/plain": [
       "array(['Introductory', 'Intermediate', 'Advanced'], dtype=object)"
      ]
     },
     "metadata": {},
     "execution_count": 130
    }
   ],
   "source": [
    "data_edx_corregido['Level'].unique()"
   ]
  },
  {
   "cell_type": "code",
   "execution_count": 131,
   "metadata": {},
   "outputs": [
    {
     "output_type": "execute_result",
     "data": {
      "text/plain": [
       "array(['English', 'Español', 'Italiano', '日本語', 'Français', '中文',\n",
       "       'Português', 'اللغة العربية', 'Deutsch'], dtype=object)"
      ]
     },
     "metadata": {},
     "execution_count": 131
    }
   ],
   "source": [
    "data_edx_corregido['language'].unique()"
   ]
  },
  {
   "source": [
    "Retiramos la información de la columa 'price' para quedarnos unicamente con datos numericos.\n",
    "LLegamos a la conclusión de que todos los cursos propuesto en el dataset de EDX son gratis y que también permiten agregar un certificado verificado por un cierto precio valorizado en dolares americanos. '$'"
   ],
   "cell_type": "markdown",
   "metadata": {}
  },
  {
   "cell_type": "code",
   "execution_count": null,
   "metadata": {},
   "outputs": [],
   "source": [
    "data_edx_corregido['price'].unique()"
   ]
  },
  {
   "cell_type": "code",
   "execution_count": 245,
   "metadata": {},
   "outputs": [
    {
     "output_type": "stream",
     "name": "stderr",
     "text": [
      "/var/folders/4n/z_dkq44j2t9bgj_4nq5l3m4h0000gn/T/ipykernel_57233/3328716685.py:1: SettingWithCopyWarning: \nA value is trying to be set on a copy of a slice from a DataFrame.\nTry using .loc[row_indexer,col_indexer] = value instead\n\nSee the caveats in the documentation: https://pandas.pydata.org/pandas-docs/stable/user_guide/indexing.html#returning-a-view-versus-a-copy\n  data_edx_corregido['price'] = data_edx_corregido['price'].str.replace(r'FREE-Add a Verified Certificate for USD', '')\n"
     ]
    }
   ],
   "source": [
    "data_edx_corregido['price'] = data_edx_corregido['price'].str.replace(r'FREE-Add a Verified Certificate for USD', '')"
   ]
  },
  {
   "cell_type": "code",
   "execution_count": 247,
   "metadata": {},
   "outputs": [],
   "source": [
    "data_edx_corregido = pd.read_csv('data_edx_revisado.csv')"
   ]
  },
  {
   "cell_type": "code",
   "execution_count": 249,
   "metadata": {},
   "outputs": [],
   "source": [
    "data_edx_corregido.drop(columns='Unnamed: 0',inplace=True)"
   ]
  },
  {
   "cell_type": "code",
   "execution_count": 251,
   "metadata": {},
   "outputs": [
    {
     "output_type": "stream",
     "name": "stderr",
     "text": [
      "/var/folders/4n/z_dkq44j2t9bgj_4nq5l3m4h0000gn/T/ipykernel_7871/1658196412.py:1: FutureWarning: The default value of regex will change from True to False in a future version. In addition, single character regular expressions will *not* be treated as literal strings when regex=True.\n  data_edx_corregido['price'] = data_edx_corregido['price'].str.replace(r'$', '')\n"
     ]
    }
   ],
   "source": [
    "data_edx_corregido['price'] = data_edx_corregido['price'].str.replace(r'$', '')"
   ]
  },
  {
   "cell_type": "code",
   "execution_count": 252,
   "metadata": {},
   "outputs": [
    {
     "output_type": "execute_result",
     "data": {
      "text/plain": [
       "                                                 title price n_enrolled  \\\n",
       "0                                  How to Learn Online   49     124,980   \n",
       "1    Programming for Everybody (Getting Started wit...   49     293,864   \n",
       "2              CS50's Introduction to Computer Science   90   2,442,271   \n",
       "3                                   The Analytics Edge  199     129,555   \n",
       "4    Marketing Analytics: Marketing Measurement Str...  249      81,140   \n",
       "..                                                 ...   ...        ...   \n",
       "969  Leaders in Citizen Security and Justice Manage...   25         NaN   \n",
       "970              Pattern Studying and Making | 图案审美与创作  139         NaN   \n",
       "971  Computational Neuroscience: Neuronal Dynamics ...  139      11,246   \n",
       "972  Cities and the Challenge of Sustainable Develo...   25       8,775   \n",
       "973                      MathTrackX: Special Functions   79         NaN   \n",
       "\n",
       "            Level language                       subject  \n",
       "0    Introductory  English  Education & Teacher Training  \n",
       "1    Introductory  English              Computer Science  \n",
       "2    Introductory  English              Computer Science  \n",
       "3    Intermediate  English    Data Analysis & Statistics  \n",
       "4    Introductory  English              Computer Science  \n",
       "..            ...      ...                           ...  \n",
       "969  Intermediate  English               Social Sciences  \n",
       "970  Introductory       中文                 Art & Culture  \n",
       "971      Advanced  English       Biology & Life Sciences  \n",
       "972  Introductory  English         Environmental Studies  \n",
       "973  Introductory  English                          Math  \n",
       "\n",
       "[974 rows x 6 columns]"
      ],
      "text/html": "<div>\n<style scoped>\n    .dataframe tbody tr th:only-of-type {\n        vertical-align: middle;\n    }\n\n    .dataframe tbody tr th {\n        vertical-align: top;\n    }\n\n    .dataframe thead th {\n        text-align: right;\n    }\n</style>\n<table border=\"1\" class=\"dataframe\">\n  <thead>\n    <tr style=\"text-align: right;\">\n      <th></th>\n      <th>title</th>\n      <th>price</th>\n      <th>n_enrolled</th>\n      <th>Level</th>\n      <th>language</th>\n      <th>subject</th>\n    </tr>\n  </thead>\n  <tbody>\n    <tr>\n      <th>0</th>\n      <td>How to Learn Online</td>\n      <td>49</td>\n      <td>124,980</td>\n      <td>Introductory</td>\n      <td>English</td>\n      <td>Education &amp; Teacher Training</td>\n    </tr>\n    <tr>\n      <th>1</th>\n      <td>Programming for Everybody (Getting Started wit...</td>\n      <td>49</td>\n      <td>293,864</td>\n      <td>Introductory</td>\n      <td>English</td>\n      <td>Computer Science</td>\n    </tr>\n    <tr>\n      <th>2</th>\n      <td>CS50's Introduction to Computer Science</td>\n      <td>90</td>\n      <td>2,442,271</td>\n      <td>Introductory</td>\n      <td>English</td>\n      <td>Computer Science</td>\n    </tr>\n    <tr>\n      <th>3</th>\n      <td>The Analytics Edge</td>\n      <td>199</td>\n      <td>129,555</td>\n      <td>Intermediate</td>\n      <td>English</td>\n      <td>Data Analysis &amp; Statistics</td>\n    </tr>\n    <tr>\n      <th>4</th>\n      <td>Marketing Analytics: Marketing Measurement Str...</td>\n      <td>249</td>\n      <td>81,140</td>\n      <td>Introductory</td>\n      <td>English</td>\n      <td>Computer Science</td>\n    </tr>\n    <tr>\n      <th>...</th>\n      <td>...</td>\n      <td>...</td>\n      <td>...</td>\n      <td>...</td>\n      <td>...</td>\n      <td>...</td>\n    </tr>\n    <tr>\n      <th>969</th>\n      <td>Leaders in Citizen Security and Justice Manage...</td>\n      <td>25</td>\n      <td>NaN</td>\n      <td>Intermediate</td>\n      <td>English</td>\n      <td>Social Sciences</td>\n    </tr>\n    <tr>\n      <th>970</th>\n      <td>Pattern Studying and Making | 图案审美与创作</td>\n      <td>139</td>\n      <td>NaN</td>\n      <td>Introductory</td>\n      <td>中文</td>\n      <td>Art &amp; Culture</td>\n    </tr>\n    <tr>\n      <th>971</th>\n      <td>Computational Neuroscience: Neuronal Dynamics ...</td>\n      <td>139</td>\n      <td>11,246</td>\n      <td>Advanced</td>\n      <td>English</td>\n      <td>Biology &amp; Life Sciences</td>\n    </tr>\n    <tr>\n      <th>972</th>\n      <td>Cities and the Challenge of Sustainable Develo...</td>\n      <td>25</td>\n      <td>8,775</td>\n      <td>Introductory</td>\n      <td>English</td>\n      <td>Environmental Studies</td>\n    </tr>\n    <tr>\n      <th>973</th>\n      <td>MathTrackX: Special Functions</td>\n      <td>79</td>\n      <td>NaN</td>\n      <td>Introductory</td>\n      <td>English</td>\n      <td>Math</td>\n    </tr>\n  </tbody>\n</table>\n<p>974 rows × 6 columns</p>\n</div>"
     },
     "metadata": {},
     "execution_count": 252
    }
   ],
   "source": [
    "data_edx_corregido"
   ]
  },
  {
   "cell_type": "code",
   "execution_count": null,
   "metadata": {},
   "outputs": [],
   "source": []
  },
  {
   "cell_type": "code",
   "execution_count": 257,
   "metadata": {},
   "outputs": [],
   "source": [
    "data_edx_corregido.to_csv('data_edx_revisado.csv')"
   ]
  },
  {
   "source": [
    "-------------------------------------------------------------------------------------------"
   ],
   "cell_type": "markdown",
   "metadata": {}
  },
  {
   "source": [
    "                                                UDEMY EDA"
   ],
   "cell_type": "markdown",
   "metadata": {}
  },
  {
   "source": [
    "Cargamos dataset udemy_courses.csv\n"
   ],
   "cell_type": "markdown",
   "metadata": {}
  },
  {
   "cell_type": "code",
   "execution_count": 273,
   "metadata": {},
   "outputs": [],
   "source": [
    "data_udemy = pd.read_csv('./udemy_courses.csv')"
   ]
  },
  {
   "cell_type": "code",
   "execution_count": 274,
   "metadata": {},
   "outputs": [
    {
     "output_type": "execute_result",
     "data": {
      "text/plain": [
       "   course_id                                       course_title  \\\n",
       "0    1070968                 Ultimate Investment Banking Course   \n",
       "1    1113822  Complete GST Course & Certification - Grow You...   \n",
       "2    1006314  Financial Modeling for Business Analysts and C...   \n",
       "3    1210588  Beginner to Pro - Financial Analysis in Excel ...   \n",
       "4    1011058       How To Maximize Your Profits Trading Options   \n",
       "\n",
       "                                                 url  is_paid  price  \\\n",
       "0  https://www.udemy.com/ultimate-investment-bank...     True    200   \n",
       "1      https://www.udemy.com/goods-and-services-tax/     True     75   \n",
       "2  https://www.udemy.com/financial-modeling-for-b...     True     45   \n",
       "3  https://www.udemy.com/complete-excel-finance-c...     True     95   \n",
       "4  https://www.udemy.com/how-to-maximize-your-pro...     True    200   \n",
       "\n",
       "   num_subscribers  num_reviews  num_lectures               level  \\\n",
       "0             2147           23            51          All Levels   \n",
       "1             2792          923           274          All Levels   \n",
       "2             2174           74            51  Intermediate Level   \n",
       "3             2451           11            36          All Levels   \n",
       "4             1276           45            26  Intermediate Level   \n",
       "\n",
       "   content_duration   published_timestamp           subject  \n",
       "0               1.5  2017-01-18T20:58:58Z  Business Finance  \n",
       "1              39.0  2017-03-09T16:34:20Z  Business Finance  \n",
       "2               2.5  2016-12-19T19:26:30Z  Business Finance  \n",
       "3               3.0  2017-05-30T20:07:24Z  Business Finance  \n",
       "4               2.0  2016-12-13T14:57:18Z  Business Finance  "
      ],
      "text/html": "<div>\n<style scoped>\n    .dataframe tbody tr th:only-of-type {\n        vertical-align: middle;\n    }\n\n    .dataframe tbody tr th {\n        vertical-align: top;\n    }\n\n    .dataframe thead th {\n        text-align: right;\n    }\n</style>\n<table border=\"1\" class=\"dataframe\">\n  <thead>\n    <tr style=\"text-align: right;\">\n      <th></th>\n      <th>course_id</th>\n      <th>course_title</th>\n      <th>url</th>\n      <th>is_paid</th>\n      <th>price</th>\n      <th>num_subscribers</th>\n      <th>num_reviews</th>\n      <th>num_lectures</th>\n      <th>level</th>\n      <th>content_duration</th>\n      <th>published_timestamp</th>\n      <th>subject</th>\n    </tr>\n  </thead>\n  <tbody>\n    <tr>\n      <th>0</th>\n      <td>1070968</td>\n      <td>Ultimate Investment Banking Course</td>\n      <td>https://www.udemy.com/ultimate-investment-bank...</td>\n      <td>True</td>\n      <td>200</td>\n      <td>2147</td>\n      <td>23</td>\n      <td>51</td>\n      <td>All Levels</td>\n      <td>1.5</td>\n      <td>2017-01-18T20:58:58Z</td>\n      <td>Business Finance</td>\n    </tr>\n    <tr>\n      <th>1</th>\n      <td>1113822</td>\n      <td>Complete GST Course &amp; Certification - Grow You...</td>\n      <td>https://www.udemy.com/goods-and-services-tax/</td>\n      <td>True</td>\n      <td>75</td>\n      <td>2792</td>\n      <td>923</td>\n      <td>274</td>\n      <td>All Levels</td>\n      <td>39.0</td>\n      <td>2017-03-09T16:34:20Z</td>\n      <td>Business Finance</td>\n    </tr>\n    <tr>\n      <th>2</th>\n      <td>1006314</td>\n      <td>Financial Modeling for Business Analysts and C...</td>\n      <td>https://www.udemy.com/financial-modeling-for-b...</td>\n      <td>True</td>\n      <td>45</td>\n      <td>2174</td>\n      <td>74</td>\n      <td>51</td>\n      <td>Intermediate Level</td>\n      <td>2.5</td>\n      <td>2016-12-19T19:26:30Z</td>\n      <td>Business Finance</td>\n    </tr>\n    <tr>\n      <th>3</th>\n      <td>1210588</td>\n      <td>Beginner to Pro - Financial Analysis in Excel ...</td>\n      <td>https://www.udemy.com/complete-excel-finance-c...</td>\n      <td>True</td>\n      <td>95</td>\n      <td>2451</td>\n      <td>11</td>\n      <td>36</td>\n      <td>All Levels</td>\n      <td>3.0</td>\n      <td>2017-05-30T20:07:24Z</td>\n      <td>Business Finance</td>\n    </tr>\n    <tr>\n      <th>4</th>\n      <td>1011058</td>\n      <td>How To Maximize Your Profits Trading Options</td>\n      <td>https://www.udemy.com/how-to-maximize-your-pro...</td>\n      <td>True</td>\n      <td>200</td>\n      <td>1276</td>\n      <td>45</td>\n      <td>26</td>\n      <td>Intermediate Level</td>\n      <td>2.0</td>\n      <td>2016-12-13T14:57:18Z</td>\n      <td>Business Finance</td>\n    </tr>\n  </tbody>\n</table>\n</div>"
     },
     "metadata": {},
     "execution_count": 274
    }
   ],
   "source": [
    "data_udemy.head()"
   ]
  },
  {
   "source": [
    "Análisis exploratorio para conocer la estructura de los datos y ver si hay errores o duplicados"
   ],
   "cell_type": "markdown",
   "metadata": {}
  },
  {
   "cell_type": "code",
   "execution_count": 22,
   "metadata": {},
   "outputs": [
    {
     "output_type": "stream",
     "name": "stdout",
     "text": [
      "<class 'pandas.core.frame.DataFrame'>\nRangeIndex: 3678 entries, 0 to 3677\nData columns (total 12 columns):\n #   Column               Non-Null Count  Dtype  \n---  ------               --------------  -----  \n 0   course_id            3678 non-null   int64  \n 1   course_title         3678 non-null   object \n 2   url                  3678 non-null   object \n 3   is_paid              3678 non-null   bool   \n 4   price                3678 non-null   int64  \n 5   num_subscribers      3678 non-null   int64  \n 6   num_reviews          3678 non-null   int64  \n 7   num_lectures         3678 non-null   int64  \n 8   level                3678 non-null   object \n 9   content_duration     3678 non-null   float64\n 10  published_timestamp  3678 non-null   object \n 11  subject              3678 non-null   object \ndtypes: bool(1), float64(1), int64(5), object(5)\nmemory usage: 319.8+ KB\n"
     ]
    },
    {
     "output_type": "execute_result",
     "data": {
      "text/plain": [
       "course_id              0\n",
       "course_title           0\n",
       "url                    0\n",
       "is_paid                0\n",
       "price                  0\n",
       "num_subscribers        0\n",
       "num_reviews            0\n",
       "num_lectures           0\n",
       "level                  0\n",
       "content_duration       0\n",
       "published_timestamp    0\n",
       "subject                0\n",
       "dtype: int64"
      ]
     },
     "metadata": {},
     "execution_count": 22
    }
   ],
   "source": [
    "data_udemy.info()\n",
    "data_udemy.value_counts()\n",
    "data_udemy.isna().sum()"
   ]
  },
  {
   "source": [
    "Cantidad de cursos pagos y cursos gratis."
   ],
   "cell_type": "markdown",
   "metadata": {}
  },
  {
   "cell_type": "code",
   "execution_count": 23,
   "metadata": {},
   "outputs": [
    {
     "output_type": "execute_result",
     "data": {
      "text/plain": [
       "True     3368\n",
       "False     310\n",
       "Name: is_paid, dtype: int64"
      ]
     },
     "metadata": {},
     "execution_count": 23
    }
   ],
   "source": [
    "data_udemy['is_paid'].value_counts() "
   ]
  },
  {
   "source": [
    "Cuento cuantos valores duplicados hay."
   ],
   "cell_type": "markdown",
   "metadata": {}
  },
  {
   "cell_type": "code",
   "execution_count": 24,
   "metadata": {},
   "outputs": [
    {
     "output_type": "execute_result",
     "data": {
      "text/plain": [
       "False    3672\n",
       "True        6\n",
       "dtype: int64"
      ]
     },
     "metadata": {},
     "execution_count": 24
    }
   ],
   "source": [
    "data_udemy.duplicated().value_counts() "
   ]
  },
  {
   "cell_type": "code",
   "execution_count": 25,
   "metadata": {},
   "outputs": [],
   "source": [
    "data_udemy_corregido = data_udemy.drop_duplicates(inplace=True)"
   ]
  },
  {
   "source": [
    "Me quedo con las columnas que tengan relevancia para el análisis y las guardo en un duplicado para asi conservar el original.\n"
   ],
   "cell_type": "markdown",
   "metadata": {}
  },
  {
   "cell_type": "code",
   "execution_count": 26,
   "metadata": {},
   "outputs": [],
   "source": [
    "data_udemy_corregido = data_udemy[['course_title','price','num_subscribers','level' ,'subject']]"
   ]
  },
  {
   "cell_type": "code",
   "execution_count": 27,
   "metadata": {},
   "outputs": [
    {
     "output_type": "execute_result",
     "data": {
      "text/plain": [
       "                                        course_title  price  num_subscribers  \\\n",
       "0                 Ultimate Investment Banking Course    200             2147   \n",
       "1  Complete GST Course & Certification - Grow You...     75             2792   \n",
       "2  Financial Modeling for Business Analysts and C...     45             2174   \n",
       "3  Beginner to Pro - Financial Analysis in Excel ...     95             2451   \n",
       "4       How To Maximize Your Profits Trading Options    200             1276   \n",
       "\n",
       "                level           subject  \n",
       "0          All Levels  Business Finance  \n",
       "1          All Levels  Business Finance  \n",
       "2  Intermediate Level  Business Finance  \n",
       "3          All Levels  Business Finance  \n",
       "4  Intermediate Level  Business Finance  "
      ],
      "text/html": "<div>\n<style scoped>\n    .dataframe tbody tr th:only-of-type {\n        vertical-align: middle;\n    }\n\n    .dataframe tbody tr th {\n        vertical-align: top;\n    }\n\n    .dataframe thead th {\n        text-align: right;\n    }\n</style>\n<table border=\"1\" class=\"dataframe\">\n  <thead>\n    <tr style=\"text-align: right;\">\n      <th></th>\n      <th>course_title</th>\n      <th>price</th>\n      <th>num_subscribers</th>\n      <th>level</th>\n      <th>subject</th>\n    </tr>\n  </thead>\n  <tbody>\n    <tr>\n      <th>0</th>\n      <td>Ultimate Investment Banking Course</td>\n      <td>200</td>\n      <td>2147</td>\n      <td>All Levels</td>\n      <td>Business Finance</td>\n    </tr>\n    <tr>\n      <th>1</th>\n      <td>Complete GST Course &amp; Certification - Grow You...</td>\n      <td>75</td>\n      <td>2792</td>\n      <td>All Levels</td>\n      <td>Business Finance</td>\n    </tr>\n    <tr>\n      <th>2</th>\n      <td>Financial Modeling for Business Analysts and C...</td>\n      <td>45</td>\n      <td>2174</td>\n      <td>Intermediate Level</td>\n      <td>Business Finance</td>\n    </tr>\n    <tr>\n      <th>3</th>\n      <td>Beginner to Pro - Financial Analysis in Excel ...</td>\n      <td>95</td>\n      <td>2451</td>\n      <td>All Levels</td>\n      <td>Business Finance</td>\n    </tr>\n    <tr>\n      <th>4</th>\n      <td>How To Maximize Your Profits Trading Options</td>\n      <td>200</td>\n      <td>1276</td>\n      <td>Intermediate Level</td>\n      <td>Business Finance</td>\n    </tr>\n  </tbody>\n</table>\n</div>"
     },
     "metadata": {},
     "execution_count": 27
    }
   ],
   "source": [
    "data_udemy_corregido.head()"
   ]
  },
  {
   "source": [
    "Reviso valores unicos de ciertas columnas"
   ],
   "cell_type": "markdown",
   "metadata": {}
  },
  {
   "cell_type": "code",
   "execution_count": 28,
   "metadata": {},
   "outputs": [
    {
     "output_type": "stream",
     "name": "stderr",
     "text": [
      "/var/folders/4n/z_dkq44j2t9bgj_4nq5l3m4h0000gn/T/ipykernel_2997/3012980803.py:1: SettingWithCopyWarning: \nA value is trying to be set on a copy of a slice from a DataFrame.\nTry using .loc[row_indexer,col_indexer] = value instead\n\nSee the caveats in the documentation: https://pandas.pydata.org/pandas-docs/stable/user_guide/indexing.html#returning-a-view-versus-a-copy\n  data_udemy_corregido['idioma'] = data_udemy_corregido['course_title'].apply(detectlang)\n"
     ]
    }
   ],
   "source": [
    "data_udemy_corregido['idioma'] = data_udemy_corregido['course_title'].apply(detectlang)"
   ]
  },
  {
   "cell_type": "code",
   "execution_count": 29,
   "metadata": {},
   "outputs": [
    {
     "output_type": "execute_result",
     "data": {
      "text/plain": [
       "array([200,  75,  45,  95, 150,  65, 195,  30,  20,  50, 175, 140, 115,\n",
       "       190, 125,  60, 145, 105, 155, 185, 180, 120,  25, 160,  40,   0,\n",
       "       100,  90,  35,  80,  70,  55, 165, 130,  85, 170, 110, 135])"
      ]
     },
     "metadata": {},
     "execution_count": 29
    }
   ],
   "source": [
    "data_udemy_corregido['price'].unique()"
   ]
  },
  {
   "cell_type": "code",
   "execution_count": 30,
   "metadata": {},
   "outputs": [
    {
     "output_type": "execute_result",
     "data": {
      "text/plain": [
       "array(['Business Finance', 'Graphic Design', 'Musical Instruments',\n",
       "       'Web Development'], dtype=object)"
      ]
     },
     "metadata": {},
     "execution_count": 30
    }
   ],
   "source": [
    "data_udemy_corregido['subject'].unique()"
   ]
  },
  {
   "cell_type": "code",
   "execution_count": 31,
   "metadata": {},
   "outputs": [
    {
     "output_type": "execute_result",
     "data": {
      "text/plain": [
       "array(['All Levels', 'Intermediate Level', 'Beginner Level',\n",
       "       'Expert Level'], dtype=object)"
      ]
     },
     "metadata": {},
     "execution_count": 31
    }
   ],
   "source": [
    "data_udemy_corregido['level'].unique()"
   ]
  },
  {
   "source": [
    "Conteo de diferentes valores de la columna 'idioma'"
   ],
   "cell_type": "markdown",
   "metadata": {}
  },
  {
   "cell_type": "code",
   "execution_count": 138,
   "metadata": {},
   "outputs": [
    {
     "output_type": "execute_result",
     "data": {
      "text/plain": [
       "Ingles       3280\n",
       "Español       140\n",
       "Aleman         90\n",
       "Portuges       66\n",
       "Frances        44\n",
       "Japones        29\n",
       "Arabe           9\n",
       "Chino           4\n",
       "Turco           4\n",
       "Ruso            3\n",
       "Tailandes       2\n",
       "Coreano         1\n",
       "Name: idioma, dtype: int64"
      ]
     },
     "metadata": {},
     "execution_count": 138
    }
   ],
   "source": [
    "data_udemy['idioma'].value_counts()"
   ]
  },
  {
   "cell_type": "code",
   "execution_count": 44,
   "metadata": {},
   "outputs": [],
   "source": [
    "data_udemy = pd.read_csv('data_udemy_revisado.csv')\n"
   ]
  },
  {
   "cell_type": "code",
   "execution_count": 161,
   "metadata": {},
   "outputs": [
    {
     "output_type": "execute_result",
     "data": {
      "text/plain": [
       "Web Development        1199\n",
       "Business Finance       1191\n",
       "Musical Instruments     680\n",
       "Graphic Design          602\n",
       "Name: subject, dtype: int64"
      ]
     },
     "metadata": {},
     "execution_count": 161
    }
   ],
   "source": [
    "data_udemy['subject'].value_counts()"
   ]
  },
  {
   "cell_type": "code",
   "execution_count": 139,
   "metadata": {},
   "outputs": [],
   "source": [
    "data_udemy.to_csv('data_udemy_revisado.csv')"
   ]
  },
  {
   "source": [
    "REALIZO UNA UNION DE LAS TABLAS PARA ESTUDIAR EL VALOR DE DIFICULTAD"
   ],
   "cell_type": "markdown",
   "metadata": {}
  },
  {
   "source": [
    "Primero ejecuto algunas tranformaciones para normalizar la informacion de las columnas."
   ],
   "cell_type": "markdown",
   "metadata": {}
  },
  {
   "cell_type": "code",
   "execution_count": null,
   "metadata": {},
   "outputs": [],
   "source": [
    "data_coursera_final['Plataforma'] = 'Coursera'"
   ]
  },
  {
   "cell_type": "code",
   "execution_count": 281,
   "metadata": {},
   "outputs": [],
   "source": [
    "data_udemy['Plataforma'] = 'Udemy'"
   ]
  },
  {
   "cell_type": "code",
   "execution_count": 284,
   "metadata": {},
   "outputs": [],
   "source": [
    "data_edx_corregido['Plataforma'] = 'EDX'"
   ]
  },
  {
   "cell_type": "code",
   "execution_count": 294,
   "metadata": {},
   "outputs": [
    {
     "output_type": "stream",
     "name": "stderr",
     "text": [
      "/var/folders/4n/z_dkq44j2t9bgj_4nq5l3m4h0000gn/T/ipykernel_7871/1936717604.py:1: SettingWithCopyWarning: \nA value is trying to be set on a copy of a slice from a DataFrame\n\nSee the caveats in the documentation: https://pandas.pydata.org/pandas-docs/stable/user_guide/indexing.html#returning-a-view-versus-a-copy\n  data_coursera_final.rename({'name':'course_title'},axis=1,inplace=True)\n"
     ]
    }
   ],
   "source": [
    "data_coursera_final.rename({'name':'course_title'},axis=1,inplace=True)"
   ]
  },
  {
   "cell_type": "code",
   "execution_count": 300,
   "metadata": {},
   "outputs": [],
   "source": [
    "data_udemy.rename({'language':'idioma'},axis=1,inplace=True)"
   ]
  },
  {
   "cell_type": "code",
   "execution_count": 298,
   "metadata": {},
   "outputs": [],
   "source": [
    "data_edx_corregido.rename({'language':'idioma'},axis=1,inplace=True)"
   ]
  },
  {
   "source": [
    "Realizo copias con las columnas necesarias"
   ],
   "cell_type": "markdown",
   "metadata": {}
  },
  {
   "cell_type": "code",
   "execution_count": 302,
   "metadata": {},
   "outputs": [
    {
     "output_type": "execute_result",
     "data": {
      "text/plain": [
       "                                          course_title  \\\n",
       "0    Programming for Everybody (Getting Started wit...   \n",
       "1                                     Machine Learning   \n",
       "2                    Neural Networks and Deep Learning   \n",
       "3                       Technical Support Fundamentals   \n",
       "4    Learning How to Learn: Powerful mental tools t...   \n",
       "..                                                 ...   \n",
       "621            Digital Marketing Analytics in Practice   \n",
       "622                    Dairy Production and Management   \n",
       "623  Security & Safety Challenges in a Globalized W...   \n",
       "624             The fundamentals of hotel distribution   \n",
       "625                     A Crash Course in Data Science   \n",
       "\n",
       "                            course_id  n_reviews  idioma Rating  \\\n",
       "0                              python    15226.0  Ingles    4.8   \n",
       "1                    machine-learning    12677.0  Ingles    4.9   \n",
       "2       neural-networks-deep-learning    12291.0  Ingles    4.9   \n",
       "3      technical-support-fundamentals    12054.0  Ingles    4.8   \n",
       "4               learning-how-to-learn    11871.0  Ingles    4.8   \n",
       "..                                ...        ...     ...    ...   \n",
       "621                 digital-analytics        0.0  Ingles      0   \n",
       "622                  dairy-production        0.0  Ingles    4.8   \n",
       "623  security-safety-globalized-world        0.0  Ingles    4.7   \n",
       "624                hotel-distribution        0.0  Ingles    4.7   \n",
       "625               data-science-course        0.0  Ingles    4.5   \n",
       "\n",
       "             dificultad Plataforma  \n",
       "0             All Level   Coursera  \n",
       "1             All Level   Coursera  \n",
       "2    Intermediate Level   Coursera  \n",
       "3        Beginner Level   Coursera  \n",
       "4             All Level   Coursera  \n",
       "..                  ...        ...  \n",
       "621           All Level   Coursera  \n",
       "622           All Level   Coursera  \n",
       "623      Beginner Level   Coursera  \n",
       "624           All Level   Coursera  \n",
       "625           All Level   Coursera  \n",
       "\n",
       "[626 rows x 7 columns]"
      ],
      "text/html": "<div>\n<style scoped>\n    .dataframe tbody tr th:only-of-type {\n        vertical-align: middle;\n    }\n\n    .dataframe tbody tr th {\n        vertical-align: top;\n    }\n\n    .dataframe thead th {\n        text-align: right;\n    }\n</style>\n<table border=\"1\" class=\"dataframe\">\n  <thead>\n    <tr style=\"text-align: right;\">\n      <th></th>\n      <th>course_title</th>\n      <th>course_id</th>\n      <th>n_reviews</th>\n      <th>idioma</th>\n      <th>Rating</th>\n      <th>dificultad</th>\n      <th>Plataforma</th>\n    </tr>\n  </thead>\n  <tbody>\n    <tr>\n      <th>0</th>\n      <td>Programming for Everybody (Getting Started wit...</td>\n      <td>python</td>\n      <td>15226.0</td>\n      <td>Ingles</td>\n      <td>4.8</td>\n      <td>All Level</td>\n      <td>Coursera</td>\n    </tr>\n    <tr>\n      <th>1</th>\n      <td>Machine Learning</td>\n      <td>machine-learning</td>\n      <td>12677.0</td>\n      <td>Ingles</td>\n      <td>4.9</td>\n      <td>All Level</td>\n      <td>Coursera</td>\n    </tr>\n    <tr>\n      <th>2</th>\n      <td>Neural Networks and Deep Learning</td>\n      <td>neural-networks-deep-learning</td>\n      <td>12291.0</td>\n      <td>Ingles</td>\n      <td>4.9</td>\n      <td>Intermediate Level</td>\n      <td>Coursera</td>\n    </tr>\n    <tr>\n      <th>3</th>\n      <td>Technical Support Fundamentals</td>\n      <td>technical-support-fundamentals</td>\n      <td>12054.0</td>\n      <td>Ingles</td>\n      <td>4.8</td>\n      <td>Beginner Level</td>\n      <td>Coursera</td>\n    </tr>\n    <tr>\n      <th>4</th>\n      <td>Learning How to Learn: Powerful mental tools t...</td>\n      <td>learning-how-to-learn</td>\n      <td>11871.0</td>\n      <td>Ingles</td>\n      <td>4.8</td>\n      <td>All Level</td>\n      <td>Coursera</td>\n    </tr>\n    <tr>\n      <th>...</th>\n      <td>...</td>\n      <td>...</td>\n      <td>...</td>\n      <td>...</td>\n      <td>...</td>\n      <td>...</td>\n      <td>...</td>\n    </tr>\n    <tr>\n      <th>621</th>\n      <td>Digital Marketing Analytics in Practice</td>\n      <td>digital-analytics</td>\n      <td>0.0</td>\n      <td>Ingles</td>\n      <td>0</td>\n      <td>All Level</td>\n      <td>Coursera</td>\n    </tr>\n    <tr>\n      <th>622</th>\n      <td>Dairy Production and Management</td>\n      <td>dairy-production</td>\n      <td>0.0</td>\n      <td>Ingles</td>\n      <td>4.8</td>\n      <td>All Level</td>\n      <td>Coursera</td>\n    </tr>\n    <tr>\n      <th>623</th>\n      <td>Security &amp; Safety Challenges in a Globalized W...</td>\n      <td>security-safety-globalized-world</td>\n      <td>0.0</td>\n      <td>Ingles</td>\n      <td>4.7</td>\n      <td>Beginner Level</td>\n      <td>Coursera</td>\n    </tr>\n    <tr>\n      <th>624</th>\n      <td>The fundamentals of hotel distribution</td>\n      <td>hotel-distribution</td>\n      <td>0.0</td>\n      <td>Ingles</td>\n      <td>4.7</td>\n      <td>All Level</td>\n      <td>Coursera</td>\n    </tr>\n    <tr>\n      <th>625</th>\n      <td>A Crash Course in Data Science</td>\n      <td>data-science-course</td>\n      <td>0.0</td>\n      <td>Ingles</td>\n      <td>4.5</td>\n      <td>All Level</td>\n      <td>Coursera</td>\n    </tr>\n  </tbody>\n</table>\n<p>626 rows × 7 columns</p>\n</div>"
     },
     "metadata": {},
     "execution_count": 302
    }
   ],
   "source": [
    "data_coursera_final"
   ]
  },
  {
   "cell_type": "code",
   "execution_count": 304,
   "metadata": {},
   "outputs": [],
   "source": [
    "data_kpi_coursera = data_coursera_final[['course_title','dificultad','idioma','Plataforma']]"
   ]
  },
  {
   "cell_type": "code",
   "execution_count": 305,
   "metadata": {},
   "outputs": [],
   "source": [
    "data_kpi_udemy = data_udemy[['course_title','dificultad','idioma','Plataforma']]"
   ]
  },
  {
   "cell_type": "code",
   "execution_count": 306,
   "metadata": {},
   "outputs": [],
   "source": [
    "data_kpi_edx = data_edx_corregido[['course_title','dificultad','idioma','Plataforma']]"
   ]
  },
  {
   "source": [
    "Ahora si union de los 3 datasets y las metricas que comparten para realizar el estudio de performance"
   ],
   "cell_type": "markdown",
   "metadata": {}
  },
  {
   "cell_type": "code",
   "execution_count": 312,
   "metadata": {},
   "outputs": [],
   "source": [
    "data_level_moooc = data_kpi_coursera"
   ]
  },
  {
   "cell_type": "code",
   "execution_count": 320,
   "metadata": {},
   "outputs": [],
   "source": [
    "data_level_moooc = pd.concat([data_kpi_coursera,data_kpi_edx,data_kpi_udemy])"
   ]
  },
  {
   "cell_type": "code",
   "execution_count": 321,
   "metadata": {},
   "outputs": [
    {
     "output_type": "execute_result",
     "data": {
      "text/plain": [
       "                                           course_title          dificultad  \\\n",
       "0     Programming for Everybody (Getting Started wit...           All Level   \n",
       "1                                      Machine Learning           All Level   \n",
       "2                     Neural Networks and Deep Learning  Intermediate Level   \n",
       "3                        Technical Support Fundamentals      Beginner Level   \n",
       "4     Learning How to Learn: Powerful mental tools t...           All Level   \n",
       "...                                                 ...                 ...   \n",
       "3667  Learn jQuery from Scratch - Master of JavaScri...          All Levels   \n",
       "3668  How To Design A WordPress Website With No Codi...      Beginner Level   \n",
       "3669                      Learn and Build using Polymer          All Levels   \n",
       "3670  CSS Animations: Create Amazing Effects on Your...          All Levels   \n",
       "3671  Using MODX CMS to Build Websites: A Beginner's...      Beginner Level   \n",
       "\n",
       "      idioma Plataforma  \n",
       "0     Ingles   Coursera  \n",
       "1     Ingles   Coursera  \n",
       "2     Ingles   Coursera  \n",
       "3     Ingles   Coursera  \n",
       "4     Ingles   Coursera  \n",
       "...      ...        ...  \n",
       "3667  Ingles      Udemy  \n",
       "3668  Ingles      Udemy  \n",
       "3669  Ingles      Udemy  \n",
       "3670  Ingles      Udemy  \n",
       "3671  Ingles      Udemy  \n",
       "\n",
       "[5272 rows x 4 columns]"
      ],
      "text/html": "<div>\n<style scoped>\n    .dataframe tbody tr th:only-of-type {\n        vertical-align: middle;\n    }\n\n    .dataframe tbody tr th {\n        vertical-align: top;\n    }\n\n    .dataframe thead th {\n        text-align: right;\n    }\n</style>\n<table border=\"1\" class=\"dataframe\">\n  <thead>\n    <tr style=\"text-align: right;\">\n      <th></th>\n      <th>course_title</th>\n      <th>dificultad</th>\n      <th>idioma</th>\n      <th>Plataforma</th>\n    </tr>\n  </thead>\n  <tbody>\n    <tr>\n      <th>0</th>\n      <td>Programming for Everybody (Getting Started wit...</td>\n      <td>All Level</td>\n      <td>Ingles</td>\n      <td>Coursera</td>\n    </tr>\n    <tr>\n      <th>1</th>\n      <td>Machine Learning</td>\n      <td>All Level</td>\n      <td>Ingles</td>\n      <td>Coursera</td>\n    </tr>\n    <tr>\n      <th>2</th>\n      <td>Neural Networks and Deep Learning</td>\n      <td>Intermediate Level</td>\n      <td>Ingles</td>\n      <td>Coursera</td>\n    </tr>\n    <tr>\n      <th>3</th>\n      <td>Technical Support Fundamentals</td>\n      <td>Beginner Level</td>\n      <td>Ingles</td>\n      <td>Coursera</td>\n    </tr>\n    <tr>\n      <th>4</th>\n      <td>Learning How to Learn: Powerful mental tools t...</td>\n      <td>All Level</td>\n      <td>Ingles</td>\n      <td>Coursera</td>\n    </tr>\n    <tr>\n      <th>...</th>\n      <td>...</td>\n      <td>...</td>\n      <td>...</td>\n      <td>...</td>\n    </tr>\n    <tr>\n      <th>3667</th>\n      <td>Learn jQuery from Scratch - Master of JavaScri...</td>\n      <td>All Levels</td>\n      <td>Ingles</td>\n      <td>Udemy</td>\n    </tr>\n    <tr>\n      <th>3668</th>\n      <td>How To Design A WordPress Website With No Codi...</td>\n      <td>Beginner Level</td>\n      <td>Ingles</td>\n      <td>Udemy</td>\n    </tr>\n    <tr>\n      <th>3669</th>\n      <td>Learn and Build using Polymer</td>\n      <td>All Levels</td>\n      <td>Ingles</td>\n      <td>Udemy</td>\n    </tr>\n    <tr>\n      <th>3670</th>\n      <td>CSS Animations: Create Amazing Effects on Your...</td>\n      <td>All Levels</td>\n      <td>Ingles</td>\n      <td>Udemy</td>\n    </tr>\n    <tr>\n      <th>3671</th>\n      <td>Using MODX CMS to Build Websites: A Beginner's...</td>\n      <td>Beginner Level</td>\n      <td>Ingles</td>\n      <td>Udemy</td>\n    </tr>\n  </tbody>\n</table>\n<p>5272 rows × 4 columns</p>\n</div>"
     },
     "metadata": {},
     "execution_count": 321
    }
   ],
   "source": [
    "data_level_moooc"
   ]
  },
  {
   "source": [
    "Exporto el dataset para usarlo"
   ],
   "cell_type": "markdown",
   "metadata": {}
  },
  {
   "cell_type": "code",
   "execution_count": 323,
   "metadata": {},
   "outputs": [],
   "source": [
    "data_level_moooc.to_csv('data_mooc_kpi.csv')"
   ]
  },
  {
   "cell_type": "code",
   "execution_count": null,
   "metadata": {},
   "outputs": [],
   "source": []
  }
 ]
}